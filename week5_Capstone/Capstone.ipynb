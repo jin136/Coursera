{
 "cells": [
  {
   "cell_type": "markdown",
   "metadata": {},
   "source": [
    "SVHN데이터 셋을 이용한 Classification 인공신경망 "
   ]
  },
  {
   "cell_type": "code",
   "execution_count": 1,
   "metadata": {},
   "outputs": [],
   "source": [
    "import tensorflow as tf\n",
    "from sklearn.model_selection import train_test_split\n",
    "from tensorflow.keras.models import Sequential\n",
    "from tensorflow.keras.layers import Conv2D, Flatten, Dense, MaxPooling2D,Dropout,BatchNormalization\n",
    "from tensorflow.keras.callbacks import ModelCheckpoint\n",
    "from tensorflow.keras import initializers\n",
    "from scipy import io\n",
    "import numpy as np\n",
    "import matplotlib.pyplot as plt\n",
    "#싸이킷 런에서 컨퓨전 매트릭스 계산\n",
    "import os\n",
    "os.environ[\"CUDA_DEVICE_ORDER\"]=\"PCI_BUS_ID\"   # see issue #152\n",
    "os.environ[\"CUDA_VISIBLE_DEVICES\"]=\"0\""
   ]
  },
  {
   "cell_type": "markdown",
   "metadata": {},
   "source": [
    "Dataset 전처리"
   ]
  },
  {
   "cell_type": "code",
   "execution_count": 2,
   "metadata": {},
   "outputs": [],
   "source": [
    "#data 로딩\n",
    "train_data=io.loadmat(r'C:\\Users\\USER\\OneDrive - Chonnam National University\\바탕 화면\\archive (1)\\train_32x32.mat')\n",
    "test_data=io.loadmat(r'C:\\Users\\USER\\OneDrive - Chonnam National University\\바탕 화면\\archive (1)\\test_32x32.mat')\n",
    "extra_data=io.loadmat(r'C:\\Users\\USER\\OneDrive - Chonnam National University\\바탕 화면\\archive (1)\\extra_32x32.mat')"
   ]
  },
  {
   "cell_type": "code",
   "execution_count": 17,
   "metadata": {},
   "outputs": [
    {
     "data": {
      "text/plain": [
       "'2.10.0'"
      ]
     },
     "execution_count": 17,
     "metadata": {},
     "output_type": "execute_result"
    }
   ],
   "source": [
    "tf.__version__"
   ]
  },
  {
   "cell_type": "code",
   "execution_count": 3,
   "metadata": {},
   "outputs": [
    {
     "ename": "MemoryError",
     "evalue": "Unable to allocate 1.14 GiB for an array with shape (32, 32, 3, 50000) and data type float64",
     "output_type": "error",
     "traceback": [
      "\u001b[1;31m---------------------------------------------------------------------------\u001b[0m",
      "\u001b[1;31mMemoryError\u001b[0m                               Traceback (most recent call last)",
      "Cell \u001b[1;32mIn[3], line 3\u001b[0m\n\u001b[0;32m      1\u001b[0m \u001b[39m#  데이터RGB 정규화\u001b[39;00m\n\u001b[0;32m      2\u001b[0m train_x\u001b[39m=\u001b[39mtrain_data[\u001b[39m'\u001b[39m\u001b[39mX\u001b[39m\u001b[39m'\u001b[39m]\n\u001b[1;32m----> 3\u001b[0m train_x\u001b[39m=\u001b[39mtrain_x[\u001b[39m.\u001b[39;49m\u001b[39m.\u001b[39;49m\u001b[39m.\u001b[39;49m,:\u001b[39m50000\u001b[39;49m]\u001b[39m/\u001b[39;49m\u001b[39m255.\u001b[39;49m\n\u001b[0;32m      5\u001b[0m train_y\u001b[39m=\u001b[39mtrain_data[\u001b[39m'\u001b[39m\u001b[39my\u001b[39m\u001b[39m'\u001b[39m]\n\u001b[0;32m      6\u001b[0m train_y\u001b[39m=\u001b[39mtrain_y[:\u001b[39m50000\u001b[39m]\n",
      "\u001b[1;31mMemoryError\u001b[0m: Unable to allocate 1.14 GiB for an array with shape (32, 32, 3, 50000) and data type float64"
     ]
    }
   ],
   "source": [
    "#  데이터RGB 정규화\n",
    "train_x=train_data['X']\n",
    "train_x=train_x[...,:50000]/255.\n",
    "\n",
    "train_y=train_data['y']\n",
    "train_y=train_y[:50000]\n",
    "\n",
    "extra_x=extra_data['X']\n",
    "extra_x=extra_x[...,:5000]/255.\n",
    "\n",
    "extra_y=extra_data['y']\n",
    "extra_y=extra_y[:5000]\n",
    "\n",
    "# train 할 수 있게 축 변경\n",
    "train_x = np.moveaxis(train_x, -1, 0)\n",
    "extra_x = np.moveaxis(extra_x, -1, 0)\n",
    "train_x.shape\n",
    "\n",
    "\n",
    "# 굳이 원핫 인코딩 안했는데 해야되나? 안하고 int label 그대로 가져가도 됨 다만 loss function 설정을 sparse cross entropy로 할 것\n",
    "train_y = tf.keras.utils.to_categorical(np.array(train_y))\n",
    "extra_y = tf.keras.utils.to_categorical(np.array(extra_y))\n",
    "\n",
    "\n",
    "train_x,val_x,train_y,val_y = train_test_split(train_x, train_y,test_size=0.1, random_state=22)"
   ]
  },
  {
   "cell_type": "code",
   "execution_count": 19,
   "metadata": {},
   "outputs": [
    {
     "data": {
      "text/plain": [
       "(45000, 32, 32, 3)"
      ]
     },
     "execution_count": 19,
     "metadata": {},
     "output_type": "execute_result"
    }
   ],
   "source": [
    "train_x.shape"
   ]
  },
  {
   "cell_type": "markdown",
   "metadata": {},
   "source": [
    "Model 정의"
   ]
  },
  {
   "cell_type": "code",
   "execution_count": null,
   "metadata": {},
   "outputs": [],
   "source": [
    "\n",
    "def get_model():\n",
    "    model=Sequential([\n",
    "        Conv2D(32, (3, 3), padding='same', \n",
    "                            activation='relu',\n",
    "                            input_shape=(32, 32, 3)),\n",
    "        BatchNormalization(),\n",
    "        Conv2D(32, (3, 3), padding='same', \n",
    "                            activation='relu'),\n",
    "        MaxPooling2D((2, 2)),\n",
    "        Dropout(0.3),\n",
    "        \n",
    "        Conv2D(64, (3, 3), padding='same', \n",
    "                            activation='relu'),\n",
    "        BatchNormalization(),\n",
    "        Conv2D(64, (3, 3), padding='same',\n",
    "                            activation='relu'),\n",
    "        MaxPooling2D((2, 2)),\n",
    "        Dropout(0.3),\n",
    "        \n",
    "        Conv2D(128, (3, 3), padding='same', \n",
    "                            activation='relu'),\n",
    "        BatchNormalization(),\n",
    "        Conv2D(128, (3, 3), padding='same',\n",
    "                            activation='relu'),\n",
    "        MaxPooling2D((2, 2)),\n",
    "        Dropout(0.3),\n",
    "        \n",
    "        Flatten(),\n",
    "        Dense(128, activation='relu'),\n",
    "        Dropout(0.4),    \n",
    "        Dense(11,  activation='softmax')\n",
    "])\n",
    "    model.compile(optimizer='adam',loss='categorical_crossentropy',metrics=['acc'])\n",
    "    return model"
   ]
  },
  {
   "cell_type": "code",
   "execution_count": 9,
   "metadata": {},
   "outputs": [
    {
     "data": {
      "text/plain": [
       "(65931, 32, 32, 3)"
      ]
     },
     "execution_count": 9,
     "metadata": {},
     "output_type": "execute_result"
    }
   ],
   "source": [
    "train_x.shape"
   ]
  },
  {
   "cell_type": "code",
   "execution_count": 23,
   "metadata": {},
   "outputs": [],
   "source": [
    "def get_model1():\n",
    "    model=Sequential([\n",
    "        Conv2D(filters=16,input_shape=(32,32,3),kernel_size=(3,3),activation='relu',name='conv_1'),\n",
    "        Conv2D(filters=8,kernel_initializer=tf.keras.initializers.HeUniform,kernel_size=(3,3),activation='relu',name='conv_2'),\n",
    "        MaxPooling2D(pool_size=(4,4),name='pool_1'),\n",
    "        BatchNormalization(),\n",
    "        Conv2D(filters=16,kernel_size=(3,3),activation='relu',name='conv_3'),\n",
    "        MaxPooling2D(pool_size=(4,4),name='pool_2'),\n",
    "        Flatten(name='Flatten'),\n",
    "        Dense(units=32,activation='relu',name='dense_1'),\n",
    "        BatchNormalization(),\n",
    "        Dropout(0.3),\n",
    "        Dense(units=11,activation='softmax',name='dense_2')\n",
    "    ])\n",
    "\n",
    "    model.compile(optimizer='adam',loss='categorical_crossentropy',metrics=['acc'])\n",
    "\n",
    "    return model"
   ]
  },
  {
   "cell_type": "markdown",
   "metadata": {},
   "source": [
    "Callback 함수 생성"
   ]
  },
  {
   "cell_type": "code",
   "execution_count": null,
   "metadata": {},
   "outputs": [],
   "source": [
    "\n",
    "checkpoint_path='model_checkpoints/checkpoint'\n",
    "checkpoint=ModelCheckpoint(filepath=checkpoint_path,frequency='epoch',save_weights_only=False,verbose=1,save_best_only=True)"
   ]
  },
  {
   "cell_type": "markdown",
   "metadata": {},
   "source": [
    "Model 학습"
   ]
  },
  {
   "cell_type": "code",
   "execution_count": null,
   "metadata": {},
   "outputs": [],
   "source": [
    "model=get_model()\n",
    "history=model.fit(x=train_x,y=train_y,epochs=100,batch_size=32,validation_data=(val_x,val_y),verbose=1,callbacks=[checkpoint])"
   ]
  },
  {
   "cell_type": "markdown",
   "metadata": {},
   "source": [
    "Train dataset & Valid dataset의 acc 시각화"
   ]
  },
  {
   "cell_type": "code",
   "execution_count": null,
   "metadata": {},
   "outputs": [],
   "source": [
    "plt.figure(figsize=(20, 10))\n",
    "\n",
    "plt.subplot(1, 2, 1)\n",
    "plt.plot(history.history['acc'], label='Training Accuracy')\n",
    "plt.plot(history.history['val_acc'], label='Validation Accuracy')\n",
    "plt.legend()\n",
    "plt.title('Epochs vs. Training and Validation Accuracy')\n",
    "    \n",
    "plt.subplot(1, 2, 2)\n",
    "plt.plot(history.history['loss'], label='Training Loss')\n",
    "plt.plot(history.history['val_loss'], label='Validation Loss')\n",
    "plt.legend()\n",
    "plt.title('Epochs vs. Training and Validation Loss')\n",
    "\n",
    "plt.show()"
   ]
  },
  {
   "cell_type": "code",
   "execution_count": 17,
   "metadata": {},
   "outputs": [
    {
     "data": {
      "image/png": "[encoded data removed]",
      "text/plain": [
       "<Figure size 640x480 with 1 Axes>"
      ]
     },
     "metadata": {},
     "output_type": "display_data"
    }
   ],
   "source": [
    "plt.plot(history.history['acc'])\n",
    "plt.plot(history.history['val_acc'])\n",
    "plt.ylabel('acc')\n",
    "plt.xlabel('epochs')\n",
    "plt.legend(['training','validation'],loc='upper right')\n",
    "plt.show()"
   ]
  },
  {
   "cell_type": "markdown",
   "metadata": {},
   "source": [
    "Extra dataset prediction을 통한 검증"
   ]
  },
  {
   "cell_type": "code",
   "execution_count": 184,
   "metadata": {},
   "outputs": [
    {
     "name": "stdout",
     "output_type": "stream",
     "text": [
      "469/469 [==============================] - 1s 3ms/step - loss: 0.5017 - acc: 0.8425\n",
      "Loss of extra dataset: 0.502,  Acc of extra dataset: 0.842\n"
     ]
    }
   ],
   "source": [
    "test_loss,test_acc=model.evaluate(x=extra_x,y=extra_y,verbose=1)\n",
    "print(\"Loss of extra dataset: {0:.3f},  Acc of extra dataset: {1:.3f}\".format(test_loss,test_acc))"
   ]
  },
  {
   "cell_type": "code",
   "execution_count": null,
   "metadata": {},
   "outputs": [],
   "source": [
    "prediction=model.predict(extra_x[...,:10])\n",
    "\n",
    "ans=extra_y\n",
    "\n",
    "plt.figure(figsize=(10,10))\n",
    "\n",
    "\n",
    "for i in range(10):\n",
    "    print(\"예측값: {0}    실제값: {1}\".format(np.argmax(prediction[i]),np.argmax(ans[i])))\n",
    "    plt.subplot(1,10,i+1),plt.imshow(extra_x[i]),plt.axis('off')  \n",
    "\n",
    "plt.show()"
   ]
  }
 ],
 "metadata": {
  "kernelspec": {
   "display_name": "deep",
   "language": "python",
   "name": "python3"
  },
  "language_info": {
   "codemirror_mode": {
    "name": "ipython",
    "version": 3
   },
   "file_extension": ".py",
   "mimetype": "text/x-python",
   "name": "python",
   "nbconvert_exporter": "python",
   "pygments_lexer": "ipython3",
   "version": "3.9.15 (main, Nov 24 2022, 14:39:17) [MSC v.1916 64 bit (AMD64)]"
  },
  "orig_nbformat": 4,
  "vscode": {
   "interpreter": {
    "hash": "2aa449cdabfa2015c02c49b6052644087a8272ff24b4438d56a7aabf7a36706b"
   }
  }
 },
 "nbformat": 4,
 "nbformat_minor": 2
}
