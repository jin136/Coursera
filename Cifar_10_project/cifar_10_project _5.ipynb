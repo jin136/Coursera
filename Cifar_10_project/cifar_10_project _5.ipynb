{
 "cells": [
  {
   "attachments": {},
   "cell_type": "markdown",
   "metadata": {},
   "source": [
    "Cifar-10 Project 5"
   ]
  },
  {
   "cell_type": "code",
   "execution_count": 1,
   "metadata": {},
   "outputs": [],
   "source": [
    "import tensorflow as tf\n",
    "from tensorflow.keras.layers import Dense,Conv2D,MaxPooling2D,Flatten,BatchNormalization,Dropout\n",
    "from tensorflow.keras.models import Sequential\n",
    "from tensorflow.keras.callbacks import ModelCheckpoint,EarlyStopping\n",
    "from tensorflow.keras import initializers\n",
    "from tensorflow.keras.callbacks import TensorBoard\n",
    "from sklearn.model_selection import train_test_split\n",
    "from keras.utils import plot_model\n",
    "import numpy as np\n",
    "import pydot\n",
    "import graphviz\n",
    "import matplotlib.pyplot as plt\n",
    "from tensorflow.keras.models import load_model"
   ]
  },
  {
   "cell_type": "markdown",
   "metadata": {},
   "source": [
    "Data uploading  "
   ]
  },
  {
   "cell_type": "code",
   "execution_count": 2,
   "metadata": {},
   "outputs": [],
   "source": [
    "(x_train,y_train),(x_test,y_test)=tf.keras.datasets.cifar10.load_data()"
   ]
  },
  {
   "cell_type": "markdown",
   "metadata": {},
   "source": [
    "Data Prerposessing"
   ]
  },
  {
   "cell_type": "code",
   "execution_count": 5,
   "metadata": {},
   "outputs": [],
   "source": [
    "# Normalization\n",
    "x_train=x_train/.255\n",
    "\n",
    "x_test=x_test/.255\n",
    "\n",
    "#One-hot encoding\n",
    "y_train = tf.keras.utils.to_categorical(np.array(y_train))\n",
    "y_test = tf.keras.utils.to_categorical(np.array(y_test))"
   ]
  },
  {
   "cell_type": "code",
   "execution_count": 6,
   "metadata": {},
   "outputs": [],
   "source": [
    "x_train,x_val,y_train,y_val = train_test_split(x_train,y_train,test_size=0.1,random_state=30)"
   ]
  },
  {
   "cell_type": "code",
   "execution_count": 17,
   "metadata": {},
   "outputs": [
    {
     "data": {
      "text/plain": [
       "(45000, 32, 32, 3)"
      ]
     },
     "execution_count": 17,
     "metadata": {},
     "output_type": "execute_result"
    }
   ],
   "source": [
    "x_train.shape"
   ]
  },
  {
   "cell_type": "markdown",
   "metadata": {},
   "source": [
    "Model 정의(CNN 기반)"
   ]
  },
  {
   "cell_type": "code",
   "execution_count": 11,
   "metadata": {},
   "outputs": [],
   "source": [
    "def get_model():\n",
    "    \n",
    "    model=Sequential([\n",
    "        Conv2D(filters=128,kernel_size=(3,3),padding='same',activation='relu',kernel_initializer='he_normal',input_shape=(32,32,3)),\n",
    "        BatchNormalization(),\n",
    "        Conv2D(filters=128,kernel_size=(3,3),padding='same',kernel_initializer='he_normal',activation='relu'),\n",
    "        MaxPooling2D(pool_size=(2,2)),\n",
    "        Dropout(0.2),\n",
    "\n",
    "        Conv2D(filters=128,kernel_size=(3,3),padding='same',activation='relu'),\n",
    "        BatchNormalization(),\n",
    "        Conv2D(filters=128,kernel_size=(3,3),padding='same',activation='relu'),\n",
    "        MaxPooling2D(pool_size=(2,2)),\n",
    "        Dropout(0.2),\n",
    "\n",
    "        Conv2D(filters=256,kernel_size=(3,3),padding='same',activation='relu'),\n",
    "        BatchNormalization(),\n",
    "        Conv2D(filters=256,kernel_size=(3,3),padding='same',activation='relu'),\n",
    "        MaxPooling2D(pool_size=(2,2)),\n",
    "        Dropout(0.3),\n",
    "\n",
    "        Conv2D(filters=256,kernel_size=(3,3),padding='same',activation='relu'),\n",
    "        BatchNormalization(),\n",
    "        Conv2D(filters=256,kernel_size=(3,3),padding='same',activation='relu'),\n",
    "        MaxPooling2D(pool_size=(2,2)),\n",
    "        Dropout(0.2),\n",
    "\n",
    "        Flatten(),\n",
    "        \n",
    "        Dense(units=128,activation='relu'),\n",
    "        BatchNormalization(),\n",
    "        Dense(units=64,activation='relu'),\n",
    "        Dropout(0.3),\n",
    "        Dense(units=10,activation='softmax') \n",
    "    ])\n",
    "\n",
    "    model.compile(optimizer=tf.keras.optimizers.Adam(learning_rate=0.001,decay=0.0001),loss='categorical_crossentropy',metrics=['acc'],)\n",
    "\n",
    "    return model"
   ]
  },
  {
   "cell_type": "code",
   "execution_count": 12,
   "metadata": {},
   "outputs": [],
   "source": [
    "model_checkpoint_best_path=r'.\\checkpoint_best_5'\n",
    "model_checkpoint_best=ModelCheckpoint(filepath=model_checkpoint_best_path,monitor='val_acc',save_best_only=True,save_weights_only=True,save_freq='epoch')\n",
    "\n",
    "early_stopping=EarlyStopping(monitor='val_loss',patience=20,min_delta=1e-4)"
   ]
  },
  {
   "cell_type": "code",
   "execution_count": 8,
   "metadata": {},
   "outputs": [],
   "source": [
    "log_dir='logs\\\\fit\\\\'"
   ]
  },
  {
   "cell_type": "code",
   "execution_count": 9,
   "metadata": {},
   "outputs": [],
   "source": [
    "tensorboard_callback=TensorBoard(log_dir=log_dir,histogram_freq=1,embeddings_freq=1)"
   ]
  },
  {
   "cell_type": "code",
   "execution_count": null,
   "metadata": {},
   "outputs": [],
   "source": [
    "model.summary()"
   ]
  },
  {
   "cell_type": "code",
   "execution_count": 8,
   "metadata": {},
   "outputs": [
    {
     "data": {
      "text/plain": [
       "[PhysicalDevice(name='/physical_device:GPU:0', device_type='GPU')]"
      ]
     },
     "execution_count": 8,
     "metadata": {},
     "output_type": "execute_result"
    }
   ],
   "source": [
    "tf.config.experimental.list_physical_devices(\"GPU\")"
   ]
  },
  {
   "cell_type": "code",
   "execution_count": 14,
   "metadata": {},
   "outputs": [],
   "source": [
    "import os\n",
    "os.environ[\"CUDA_DEVICE_ORDER\"]=\"PCI_BUS_ID\"   # see issue #152\n",
    "os.environ[\"CUDA_VISIBLE_DEVICES\"]=\"0\""
   ]
  },
  {
   "cell_type": "code",
   "execution_count": 15,
   "metadata": {},
   "outputs": [
    {
     "name": "stdout",
     "output_type": "stream",
     "text": [
      "Epoch 1/200\n",
      "1407/1407 [==============================] - 36s 25ms/step - loss: 1.7975 - acc: 0.3163 - val_loss: 1.7514 - val_acc: 0.3750\n",
      "Epoch 2/200\n",
      "1407/1407 [==============================] - 34s 24ms/step - loss: 1.4501 - acc: 0.4727 - val_loss: 1.6149 - val_acc: 0.4012\n",
      "Epoch 3/200\n",
      "1407/1407 [==============================] - 35s 25ms/step - loss: 1.3129 - acc: 0.5311 - val_loss: 1.1431 - val_acc: 0.5952\n",
      "Epoch 4/200\n",
      "1407/1407 [==============================] - 34s 24ms/step - loss: 1.0745 - acc: 0.6265 - val_loss: 0.9728 - val_acc: 0.6612\n",
      "Epoch 5/200\n",
      "1407/1407 [==============================] - 35s 25ms/step - loss: 0.9513 - acc: 0.6702 - val_loss: 0.8763 - val_acc: 0.6832\n",
      "Epoch 6/200\n",
      "1407/1407 [==============================] - 34s 24ms/step - loss: 0.8311 - acc: 0.7171 - val_loss: 0.9571 - val_acc: 0.6828\n",
      "Epoch 7/200\n",
      "1407/1407 [==============================] - 35s 25ms/step - loss: 0.7416 - acc: 0.7524 - val_loss: 0.7167 - val_acc: 0.7522\n",
      "Epoch 8/200\n",
      "1407/1407 [==============================] - 35s 25ms/step - loss: 0.6661 - acc: 0.7785 - val_loss: 0.6985 - val_acc: 0.7678\n",
      "Epoch 9/200\n",
      "1407/1407 [==============================] - 35s 25ms/step - loss: 0.5894 - acc: 0.8058 - val_loss: 0.6165 - val_acc: 0.7946\n",
      "Epoch 10/200\n",
      "1407/1407 [==============================] - 34s 24ms/step - loss: 0.5334 - acc: 0.8255 - val_loss: 0.5875 - val_acc: 0.8070\n",
      "Epoch 11/200\n",
      "1407/1407 [==============================] - 35s 25ms/step - loss: 0.4793 - acc: 0.8416 - val_loss: 0.5830 - val_acc: 0.8024\n",
      "Epoch 12/200\n",
      "1407/1407 [==============================] - 35s 25ms/step - loss: 0.4408 - acc: 0.8559 - val_loss: 0.5830 - val_acc: 0.8226\n",
      "Epoch 13/200\n",
      "1407/1407 [==============================] - 35s 25ms/step - loss: 0.3890 - acc: 0.8721 - val_loss: 0.5659 - val_acc: 0.8184\n",
      "Epoch 14/200\n",
      "1407/1407 [==============================] - 35s 25ms/step - loss: 0.3606 - acc: 0.8818 - val_loss: 0.6057 - val_acc: 0.8034\n",
      "Epoch 15/200\n",
      "1407/1407 [==============================] - 35s 25ms/step - loss: 0.3364 - acc: 0.8894 - val_loss: 0.5347 - val_acc: 0.8364\n",
      "Epoch 16/200\n",
      "1407/1407 [==============================] - 35s 25ms/step - loss: 0.2911 - acc: 0.9030 - val_loss: 0.5851 - val_acc: 0.8326\n",
      "Epoch 17/200\n",
      "1407/1407 [==============================] - 35s 25ms/step - loss: 0.2911 - acc: 0.9036 - val_loss: 0.5713 - val_acc: 0.8362\n",
      "Epoch 18/200\n",
      "1407/1407 [==============================] - 35s 25ms/step - loss: 0.2503 - acc: 0.9179 - val_loss: 0.6165 - val_acc: 0.8310\n",
      "Epoch 19/200\n",
      "1407/1407 [==============================] - 34s 25ms/step - loss: 0.2368 - acc: 0.9220 - val_loss: 0.6249 - val_acc: 0.8244\n",
      "Epoch 20/200\n",
      "1407/1407 [==============================] - 35s 25ms/step - loss: 0.2164 - acc: 0.9285 - val_loss: 0.5862 - val_acc: 0.8424\n",
      "Epoch 21/200\n",
      "1407/1407 [==============================] - 35s 25ms/step - loss: 0.2059 - acc: 0.9329 - val_loss: 0.5904 - val_acc: 0.8496\n",
      "Epoch 22/200\n",
      "1407/1407 [==============================] - 35s 25ms/step - loss: 0.1752 - acc: 0.9406 - val_loss: 0.6251 - val_acc: 0.8396\n",
      "Epoch 23/200\n",
      "1407/1407 [==============================] - 35s 25ms/step - loss: 0.1659 - acc: 0.9456 - val_loss: 0.6185 - val_acc: 0.8408\n",
      "Epoch 24/200\n",
      "1407/1407 [==============================] - 35s 25ms/step - loss: 0.1581 - acc: 0.9476 - val_loss: 0.6400 - val_acc: 0.8396\n",
      "Epoch 25/200\n",
      "1407/1407 [==============================] - 35s 25ms/step - loss: 0.1456 - acc: 0.9522 - val_loss: 0.6537 - val_acc: 0.8398\n",
      "Epoch 26/200\n",
      "1407/1407 [==============================] - 35s 25ms/step - loss: 0.1340 - acc: 0.9554 - val_loss: 0.7027 - val_acc: 0.8384\n",
      "Epoch 27/200\n",
      "1407/1407 [==============================] - 34s 24ms/step - loss: 0.1214 - acc: 0.9614 - val_loss: 0.7226 - val_acc: 0.8432\n",
      "Epoch 28/200\n",
      "1407/1407 [==============================] - 34s 24ms/step - loss: 0.1191 - acc: 0.9612 - val_loss: 0.7230 - val_acc: 0.8482\n",
      "Epoch 29/200\n",
      "1407/1407 [==============================] - 34s 24ms/step - loss: 0.1133 - acc: 0.9630 - val_loss: 0.6717 - val_acc: 0.8500\n",
      "Epoch 30/200\n",
      "1407/1407 [==============================] - 34s 24ms/step - loss: 0.1072 - acc: 0.9656 - val_loss: 0.7110 - val_acc: 0.8532\n",
      "Epoch 31/200\n",
      "1407/1407 [==============================] - 35s 25ms/step - loss: 0.0992 - acc: 0.9683 - val_loss: 0.6965 - val_acc: 0.8528\n",
      "Epoch 32/200\n",
      "1407/1407 [==============================] - 35s 25ms/step - loss: 0.0967 - acc: 0.9692 - val_loss: 0.6699 - val_acc: 0.8546\n",
      "Epoch 33/200\n",
      "1407/1407 [==============================] - 35s 25ms/step - loss: 0.0999 - acc: 0.9679 - val_loss: 0.7297 - val_acc: 0.8516\n",
      "Epoch 34/200\n",
      "1407/1407 [==============================] - 34s 24ms/step - loss: 0.0792 - acc: 0.9750 - val_loss: 0.7505 - val_acc: 0.8478\n",
      "Epoch 35/200\n",
      "1407/1407 [==============================] - 34s 24ms/step - loss: 0.0810 - acc: 0.9749 - val_loss: 0.7957 - val_acc: 0.8538\n",
      "Epoch 36/200\n",
      "1407/1407 [==============================] - 35s 25ms/step - loss: 0.0782 - acc: 0.9749 - val_loss: 0.7663 - val_acc: 0.8500\n",
      "Epoch 37/200\n",
      "1407/1407 [==============================] - 35s 25ms/step - loss: 0.0737 - acc: 0.9755 - val_loss: 0.7726 - val_acc: 0.8548\n",
      "Epoch 38/200\n",
      "1407/1407 [==============================] - 35s 25ms/step - loss: 0.0749 - acc: 0.9765 - val_loss: 0.7303 - val_acc: 0.8570\n",
      "Epoch 39/200\n",
      "1407/1407 [==============================] - 35s 25ms/step - loss: 0.0658 - acc: 0.9790 - val_loss: 0.7891 - val_acc: 0.8584\n",
      "Epoch 40/200\n",
      "1407/1407 [==============================] - 35s 25ms/step - loss: 0.0632 - acc: 0.9802 - val_loss: 0.8129 - val_acc: 0.8558\n",
      "Epoch 41/200\n",
      "1407/1407 [==============================] - 34s 25ms/step - loss: 0.0646 - acc: 0.9794 - val_loss: 0.7993 - val_acc: 0.8506\n",
      "Epoch 42/200\n",
      "1407/1407 [==============================] - 35s 25ms/step - loss: 0.0605 - acc: 0.9802 - val_loss: 0.8020 - val_acc: 0.8586\n",
      "Epoch 43/200\n",
      "1407/1407 [==============================] - 34s 24ms/step - loss: 0.0574 - acc: 0.9812 - val_loss: 0.8138 - val_acc: 0.8508\n",
      "Epoch 44/200\n",
      "1407/1407 [==============================] - 35s 25ms/step - loss: 0.0590 - acc: 0.9817 - val_loss: 0.7843 - val_acc: 0.8582\n",
      "Epoch 45/200\n",
      "1407/1407 [==============================] - 34s 24ms/step - loss: 0.0519 - acc: 0.9835 - val_loss: 0.8949 - val_acc: 0.8550\n",
      "Epoch 46/200\n",
      "1407/1407 [==============================] - 34s 24ms/step - loss: 0.0543 - acc: 0.9819 - val_loss: 0.8335 - val_acc: 0.8558\n",
      "Epoch 47/200\n",
      "1407/1407 [==============================] - 35s 25ms/step - loss: 0.0495 - acc: 0.9842 - val_loss: 0.8060 - val_acc: 0.8582\n",
      "Epoch 48/200\n",
      "1407/1407 [==============================] - 35s 25ms/step - loss: 0.0500 - acc: 0.9839 - val_loss: 0.8664 - val_acc: 0.8600\n",
      "Epoch 49/200\n",
      "1407/1407 [==============================] - 35s 25ms/step - loss: 0.0487 - acc: 0.9843 - val_loss: 0.8715 - val_acc: 0.8574\n",
      "Epoch 50/200\n",
      "1407/1407 [==============================] - 35s 25ms/step - loss: 0.0463 - acc: 0.9853 - val_loss: 0.8401 - val_acc: 0.8574\n",
      "Epoch 51/200\n",
      "1407/1407 [==============================] - 34s 24ms/step - loss: 0.0482 - acc: 0.9856 - val_loss: 0.8889 - val_acc: 0.8540\n",
      "Epoch 52/200\n",
      "1407/1407 [==============================] - 34s 24ms/step - loss: 0.0439 - acc: 0.9863 - val_loss: 0.8474 - val_acc: 0.8548\n",
      "Epoch 53/200\n",
      "1407/1407 [==============================] - 35s 25ms/step - loss: 0.0416 - acc: 0.9873 - val_loss: 0.8463 - val_acc: 0.8612\n",
      "Epoch 54/200\n",
      "1407/1407 [==============================] - 34s 24ms/step - loss: 0.0394 - acc: 0.9880 - val_loss: 0.8762 - val_acc: 0.8588\n",
      "Epoch 55/200\n",
      "1407/1407 [==============================] - 35s 25ms/step - loss: 0.0398 - acc: 0.9877 - val_loss: 0.8757 - val_acc: 0.8560\n",
      "Epoch 56/200\n",
      "1407/1407 [==============================] - 34s 24ms/step - loss: 0.0404 - acc: 0.9877 - val_loss: 0.8304 - val_acc: 0.8584\n",
      "Epoch 57/200\n",
      "1407/1407 [==============================] - 34s 24ms/step - loss: 0.0369 - acc: 0.9884 - val_loss: 0.8314 - val_acc: 0.8564\n",
      "Epoch 58/200\n",
      "1407/1407 [==============================] - 34s 24ms/step - loss: 0.0365 - acc: 0.9888 - val_loss: 0.9613 - val_acc: 0.8476\n",
      "Epoch 59/200\n",
      "1407/1407 [==============================] - 34s 24ms/step - loss: 0.0370 - acc: 0.9885 - val_loss: 0.8809 - val_acc: 0.8576\n",
      "Epoch 60/200\n",
      "1407/1407 [==============================] - 34s 24ms/step - loss: 0.0335 - acc: 0.9898 - val_loss: 0.9108 - val_acc: 0.8534\n",
      "Epoch 61/200\n",
      "1407/1407 [==============================] - 34s 24ms/step - loss: 0.0365 - acc: 0.9886 - val_loss: 0.8346 - val_acc: 0.8604\n",
      "Epoch 62/200\n",
      "1407/1407 [==============================] - 34s 24ms/step - loss: 0.0337 - acc: 0.9897 - val_loss: 0.8773 - val_acc: 0.8576\n",
      "Epoch 63/200\n",
      "1407/1407 [==============================] - 34s 24ms/step - loss: 0.0323 - acc: 0.9904 - val_loss: 0.9091 - val_acc: 0.8570\n",
      "Epoch 64/200\n",
      "1407/1407 [==============================] - 34s 24ms/step - loss: 0.0324 - acc: 0.9903 - val_loss: 0.9190 - val_acc: 0.8600\n",
      "Epoch 65/200\n",
      "1407/1407 [==============================] - 34s 24ms/step - loss: 0.0311 - acc: 0.9912 - val_loss: 0.9202 - val_acc: 0.8556\n",
      "Epoch 66/200\n",
      "1407/1407 [==============================] - 35s 25ms/step - loss: 0.0320 - acc: 0.9901 - val_loss: 0.8999 - val_acc: 0.8622\n",
      "Epoch 67/200\n",
      "1407/1407 [==============================] - 35s 25ms/step - loss: 0.0311 - acc: 0.9905 - val_loss: 0.8891 - val_acc: 0.8574\n",
      "Epoch 68/200\n",
      "1407/1407 [==============================] - 34s 24ms/step - loss: 0.0305 - acc: 0.9905 - val_loss: 0.9131 - val_acc: 0.8590\n",
      "Epoch 69/200\n",
      "1407/1407 [==============================] - 35s 25ms/step - loss: 0.0279 - acc: 0.9917 - val_loss: 0.9761 - val_acc: 0.8568\n",
      "Epoch 70/200\n",
      "1407/1407 [==============================] - 35s 25ms/step - loss: 0.0273 - acc: 0.9917 - val_loss: 0.9658 - val_acc: 0.8600\n",
      "Epoch 71/200\n",
      "1407/1407 [==============================] - 35s 25ms/step - loss: 0.0258 - acc: 0.9921 - val_loss: 0.9955 - val_acc: 0.8548\n",
      "Epoch 72/200\n",
      "1407/1407 [==============================] - 35s 25ms/step - loss: 0.0253 - acc: 0.9923 - val_loss: 0.9604 - val_acc: 0.8544\n",
      "Epoch 73/200\n",
      "1407/1407 [==============================] - 35s 25ms/step - loss: 0.0381 - acc: 0.9886 - val_loss: 0.8543 - val_acc: 0.8566\n",
      "Epoch 74/200\n",
      "1407/1407 [==============================] - 35s 25ms/step - loss: 0.0270 - acc: 0.9915 - val_loss: 0.9173 - val_acc: 0.8604\n",
      "Epoch 75/200\n",
      "1407/1407 [==============================] - 35s 25ms/step - loss: 0.0233 - acc: 0.9929 - val_loss: 0.9284 - val_acc: 0.8628\n",
      "Epoch 76/200\n",
      "1407/1407 [==============================] - 35s 25ms/step - loss: 0.0224 - acc: 0.9930 - val_loss: 0.9637 - val_acc: 0.8596\n",
      "Epoch 77/200\n",
      "1407/1407 [==============================] - 35s 25ms/step - loss: 0.0255 - acc: 0.9922 - val_loss: 0.9256 - val_acc: 0.8602\n",
      "Epoch 78/200\n",
      "1407/1407 [==============================] - 34s 24ms/step - loss: 0.0250 - acc: 0.9932 - val_loss: 0.9610 - val_acc: 0.8596\n",
      "Epoch 79/200\n",
      "1407/1407 [==============================] - 34s 24ms/step - loss: 0.0238 - acc: 0.9927 - val_loss: 0.8501 - val_acc: 0.8624\n",
      "Epoch 80/200\n",
      "1407/1407 [==============================] - 35s 25ms/step - loss: 0.0244 - acc: 0.9928 - val_loss: 0.9005 - val_acc: 0.8634\n",
      "Epoch 81/200\n",
      "1407/1407 [==============================] - 35s 25ms/step - loss: 0.0203 - acc: 0.9938 - val_loss: 1.0452 - val_acc: 0.8610\n",
      "Epoch 82/200\n",
      "1407/1407 [==============================] - 34s 25ms/step - loss: 0.0242 - acc: 0.9929 - val_loss: 0.9973 - val_acc: 0.8608\n",
      "Epoch 83/200\n",
      "1407/1407 [==============================] - 36s 26ms/step - loss: 0.0245 - acc: 0.9925 - val_loss: 0.9320 - val_acc: 0.8644\n",
      "Epoch 84/200\n",
      "1407/1407 [==============================] - 46s 33ms/step - loss: 0.0210 - acc: 0.9936 - val_loss: 0.9719 - val_acc: 0.8596\n",
      "Epoch 85/200\n",
      "1407/1407 [==============================] - 46s 32ms/step - loss: 0.0196 - acc: 0.9938 - val_loss: 0.9798 - val_acc: 0.8600\n",
      "Epoch 86/200\n",
      "1407/1407 [==============================] - 46s 33ms/step - loss: 0.0219 - acc: 0.9937 - val_loss: 1.0090 - val_acc: 0.8560\n",
      "Epoch 87/200\n",
      "1407/1407 [==============================] - 46s 33ms/step - loss: 0.0222 - acc: 0.9930 - val_loss: 0.9688 - val_acc: 0.8560\n",
      "Epoch 88/200\n",
      "1407/1407 [==============================] - 46s 33ms/step - loss: 0.0195 - acc: 0.9946 - val_loss: 0.9954 - val_acc: 0.8630\n",
      "Epoch 89/200\n",
      "1407/1407 [==============================] - 46s 33ms/step - loss: 0.0206 - acc: 0.9939 - val_loss: 0.9314 - val_acc: 0.8602\n",
      "Epoch 90/200\n",
      "1407/1407 [==============================] - 46s 32ms/step - loss: 0.0209 - acc: 0.9936 - val_loss: 1.0190 - val_acc: 0.8576\n",
      "Epoch 91/200\n",
      "1407/1407 [==============================] - 46s 32ms/step - loss: 0.0201 - acc: 0.9938 - val_loss: 1.0162 - val_acc: 0.8588\n",
      "Epoch 92/200\n",
      "1407/1407 [==============================] - 46s 32ms/step - loss: 0.0200 - acc: 0.9938 - val_loss: 0.9619 - val_acc: 0.8588\n",
      "Epoch 93/200\n",
      "1407/1407 [==============================] - 38s 27ms/step - loss: 0.0189 - acc: 0.9941 - val_loss: 1.0067 - val_acc: 0.8576\n",
      "Epoch 94/200\n",
      "1407/1407 [==============================] - 34s 24ms/step - loss: 0.0185 - acc: 0.9944 - val_loss: 0.9988 - val_acc: 0.8566\n",
      "Epoch 95/200\n",
      "1407/1407 [==============================] - 35s 25ms/step - loss: 0.0195 - acc: 0.9941 - val_loss: 0.9683 - val_acc: 0.8610\n",
      "Epoch 96/200\n",
      "1407/1407 [==============================] - 35s 25ms/step - loss: 0.0182 - acc: 0.9942 - val_loss: 0.9812 - val_acc: 0.8602\n",
      "Epoch 97/200\n",
      "1407/1407 [==============================] - 35s 25ms/step - loss: 0.0174 - acc: 0.9948 - val_loss: 0.9691 - val_acc: 0.8614\n",
      "Epoch 98/200\n",
      "1407/1407 [==============================] - 34s 25ms/step - loss: 0.0164 - acc: 0.9949 - val_loss: 0.9865 - val_acc: 0.8582\n",
      "Epoch 99/200\n",
      "1407/1407 [==============================] - 35s 25ms/step - loss: 0.0196 - acc: 0.9944 - val_loss: 1.0097 - val_acc: 0.8618\n",
      "Epoch 100/200\n",
      "1407/1407 [==============================] - 35s 25ms/step - loss: 0.0176 - acc: 0.9946 - val_loss: 0.9385 - val_acc: 0.8654\n",
      "Epoch 101/200\n",
      "1407/1407 [==============================] - 35s 25ms/step - loss: 0.0160 - acc: 0.9951 - val_loss: 0.9821 - val_acc: 0.8688\n",
      "Epoch 102/200\n",
      "1407/1407 [==============================] - 35s 25ms/step - loss: 0.0182 - acc: 0.9946 - val_loss: 0.9689 - val_acc: 0.8614\n",
      "Epoch 103/200\n",
      "1407/1407 [==============================] - 35s 25ms/step - loss: 0.0157 - acc: 0.9952 - val_loss: 0.9530 - val_acc: 0.8598\n",
      "Epoch 104/200\n",
      "1407/1407 [==============================] - 35s 25ms/step - loss: 0.0155 - acc: 0.9959 - val_loss: 1.0349 - val_acc: 0.8608\n",
      "Epoch 105/200\n",
      "1407/1407 [==============================] - 35s 25ms/step - loss: 0.0158 - acc: 0.9953 - val_loss: 1.0226 - val_acc: 0.8600\n",
      "Epoch 106/200\n",
      "1407/1407 [==============================] - 34s 25ms/step - loss: 0.0148 - acc: 0.9956 - val_loss: 1.0256 - val_acc: 0.8602\n",
      "Epoch 107/200\n",
      "1407/1407 [==============================] - 35s 25ms/step - loss: 0.0165 - acc: 0.9948 - val_loss: 0.9894 - val_acc: 0.8602\n",
      "Epoch 108/200\n",
      "1407/1407 [==============================] - 34s 24ms/step - loss: 0.0146 - acc: 0.9956 - val_loss: 1.0307 - val_acc: 0.8606\n",
      "Epoch 109/200\n",
      "1407/1407 [==============================] - 34s 25ms/step - loss: 0.0156 - acc: 0.9955 - val_loss: 0.9668 - val_acc: 0.8650\n",
      "Epoch 110/200\n",
      "1407/1407 [==============================] - 34s 25ms/step - loss: 0.0170 - acc: 0.9949 - val_loss: 1.0095 - val_acc: 0.8596\n",
      "Epoch 111/200\n",
      "1407/1407 [==============================] - 35s 25ms/step - loss: 0.0156 - acc: 0.9954 - val_loss: 1.0364 - val_acc: 0.8606\n",
      "Epoch 112/200\n",
      "1407/1407 [==============================] - 35s 25ms/step - loss: 0.0152 - acc: 0.9958 - val_loss: 1.0402 - val_acc: 0.8642\n",
      "Epoch 113/200\n",
      "1407/1407 [==============================] - 35s 25ms/step - loss: 0.0144 - acc: 0.9960 - val_loss: 1.0258 - val_acc: 0.8592\n",
      "Epoch 114/200\n",
      "1407/1407 [==============================] - 35s 25ms/step - loss: 0.0158 - acc: 0.9950 - val_loss: 1.0570 - val_acc: 0.8624\n",
      "Epoch 115/200\n",
      "1407/1407 [==============================] - 35s 25ms/step - loss: 0.0137 - acc: 0.9959 - val_loss: 1.1293 - val_acc: 0.8580\n",
      "Epoch 116/200\n",
      "1407/1407 [==============================] - 35s 25ms/step - loss: 0.0130 - acc: 0.9962 - val_loss: 1.0798 - val_acc: 0.8612\n",
      "Epoch 117/200\n",
      "1407/1407 [==============================] - 35s 25ms/step - loss: 0.0144 - acc: 0.9958 - val_loss: 1.0123 - val_acc: 0.8638\n",
      "Epoch 118/200\n",
      "1407/1407 [==============================] - 35s 25ms/step - loss: 0.0128 - acc: 0.9960 - val_loss: 1.0685 - val_acc: 0.8608\n",
      "Epoch 119/200\n",
      "1407/1407 [==============================] - 35s 25ms/step - loss: 0.0151 - acc: 0.9954 - val_loss: 1.0680 - val_acc: 0.8638\n",
      "Epoch 120/200\n",
      "1407/1407 [==============================] - 35s 25ms/step - loss: 0.0139 - acc: 0.9956 - val_loss: 1.0561 - val_acc: 0.8630\n",
      "Epoch 121/200\n",
      "1407/1407 [==============================] - 35s 25ms/step - loss: 0.0146 - acc: 0.9953 - val_loss: 1.0233 - val_acc: 0.8638\n"
     ]
    }
   ],
   "source": [
    "model=get_model()\n",
    "history=model.fit(x_train,\n",
    "        y_train,\n",
    "        epochs=100,\n",
    "        validation_data=(x_val,y_val),\n",
    "        verbose=1,\n",
    "        callbacks=[model_checkpoint_best,early_stopping])#,tensorboard_callback])"
   ]
  },
  {
   "cell_type": "markdown",
   "metadata": {},
   "source": [
    "Model 학습"
   ]
  },
  {
   "cell_type": "code",
   "execution_count": 16,
   "metadata": {},
   "outputs": [
    {
     "name": "stdout",
     "output_type": "stream",
     "text": [
      "157/157 [==============================] - 2s 8ms/step - loss: 0.9821 - acc: 0.8688\n"
     ]
    }
   ],
   "source": [
    "model=get_model()\n",
    "model.load_weights(model_checkpoint_best_path)\n",
    "test_loss,test_acc=model.evaluate(x=x_val,y=y_val,verbose=1)"
   ]
  },
  {
   "cell_type": "code",
   "execution_count": null,
   "metadata": {},
   "outputs": [],
   "source": [
    "model.save('cifar_10_87')"
   ]
  },
  {
   "cell_type": "markdown",
   "metadata": {},
   "source": [
    "Train 및 Validation acc 시각화"
   ]
  },
  {
   "cell_type": "code",
   "execution_count": 17,
   "metadata": {},
   "outputs": [
    {
     "data": {
      "image/png": "[encoded data removed]",
      "text/plain": [
       "<Figure size 640x480 with 1 Axes>"
      ]
     },
     "metadata": {},
     "output_type": "display_data"
    }
   ],
   "source": [
    "plt.plot(history.history['acc'])\n",
    "plt.plot(history.history['val_acc'])\n",
    "plt.ylabel('acc')\n",
    "plt.xlabel('epochs')\n",
    "plt.legend(['training','validation'],loc='upper left')\n",
    "plt.show()"
   ]
  },
  {
   "cell_type": "code",
   "execution_count": 18,
   "metadata": {},
   "outputs": [
    {
     "data": {
      "image/png": "[encoded data removed]",
      "text/plain": [
       "<Figure size 640x480 with 2 Axes>"
      ]
     },
     "metadata": {},
     "output_type": "display_data"
    }
   ],
   "source": [
    "plt.subplot(1,2,1)\n",
    "plt.plot(history.history['acc'])\n",
    "plt.plot(history.history['val_acc'])\n",
    "plt.subplot(1,2,2)\n",
    "plt.plot(history.history['loss'])\n",
    "plt.plot(history.history['val_loss'])\n",
    "plt.show()"
   ]
  },
  {
   "cell_type": "code",
   "execution_count": null,
   "metadata": {},
   "outputs": [],
   "source": [
    "plot_model(model, to_file='model.png')"
   ]
  },
  {
   "cell_type": "markdown",
   "metadata": {},
   "source": [
    "Test dataset 검증"
   ]
  },
  {
   "cell_type": "code",
   "execution_count": 19,
   "metadata": {},
   "outputs": [
    {
     "name": "stdout",
     "output_type": "stream",
     "text": [
      "313/313 [==============================] - 2s 7ms/step - loss: 0.9813 - acc: 0.8609\n"
     ]
    }
   ],
   "source": [
    "test_loss,test_acc=model.evaluate(x=x_test,y=y_test,verbose=1)"
   ]
  }
 ],
 "metadata": {
  "kernelspec": {
   "display_name": "deep",
   "language": "python",
   "name": "python3"
  },
  "language_info": {
   "codemirror_mode": {
    "name": "ipython",
    "version": 3
   },
   "file_extension": ".py",
   "mimetype": "text/x-python",
   "name": "python",
   "nbconvert_exporter": "python",
   "pygments_lexer": "ipython3",
   "version": "3.9.15 (main, Nov 24 2022, 14:39:17) [MSC v.1916 64 bit (AMD64)]"
  },
  "orig_nbformat": 4,
  "vscode": {
   "interpreter": {
    "hash": "2aa449cdabfa2015c02c49b6052644087a8272ff24b4438d56a7aabf7a36706b"
   }
  }
 },
 "nbformat": 4,
 "nbformat_minor": 2
}
