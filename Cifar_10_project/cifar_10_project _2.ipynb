{
 "cells": [
  {
   "attachments": {},
   "cell_type": "markdown",
   "metadata": {},
   "source": [
    "Cifar-10 Project 2 79"
   ]
  },
  {
   "cell_type": "code",
   "execution_count": 1,
   "metadata": {
    "vscode": {
     "languageId": "python"
    }
   },
   "outputs": [],
   "source": [
    "import tensorflow as tf\n",
    "from tensorflow.keras.layers import Dense,Conv2D,MaxPooling2D,Flatten,BatchNormalization,Dropout\n",
    "from tensorflow.keras.models import Sequential\n",
    "from tensorflow.keras.callbacks import ModelCheckpoint,EarlyStopping\n",
    "from tensorflow.keras import initializers\n",
    "from tensorflow.keras.callbacks import TensorBoard\n",
    "from sklearn.model_selection import train_test_split\n",
    "import numpy as np\n",
    "import matplotlib.pyplot as plt"
   ]
  },
  {
   "cell_type": "markdown",
   "metadata": {},
   "source": [
    "Data uploading  "
   ]
  },
  {
   "cell_type": "code",
   "execution_count": 2,
   "metadata": {
    "vscode": {
     "languageId": "python"
    }
   },
   "outputs": [],
   "source": [
    "(x_train,y_train),(x_test,y_test)=tf.keras.datasets.cifar10.load_data()"
   ]
  },
  {
   "cell_type": "markdown",
   "metadata": {},
   "source": [
    "Data Prerposessing"
   ]
  },
  {
   "cell_type": "code",
   "execution_count": 3,
   "metadata": {
    "vscode": {
     "languageId": "python"
    }
   },
   "outputs": [],
   "source": [
    "# Normalization\n",
    "x_train=x_train/.255\n",
    "\n",
    "x_test=x_test/.255\n",
    "\n",
    "#One-hot encoding\n",
    "y_train = tf.keras.utils.to_categorical(np.array(y_train))\n",
    "y_test = tf.keras.utils.to_categorical(np.array(y_test))"
   ]
  },
  {
   "cell_type": "code",
   "execution_count": 4,
   "metadata": {
    "vscode": {
     "languageId": "python"
    }
   },
   "outputs": [],
   "source": [
    "x_train,x_val,y_train,y_val = train_test_split(x_train,y_train,test_size=0.1,random_state=30)"
   ]
  },
  {
   "cell_type": "code",
   "execution_count": 17,
   "metadata": {
    "vscode": {
     "languageId": "python"
    }
   },
   "outputs": [
    {
     "data": {
      "text/plain": [
       "(45000, 32, 32, 3)"
      ]
     },
     "execution_count": 17,
     "metadata": {},
     "output_type": "execute_result"
    }
   ],
   "source": [
    "x_train.shape"
   ]
  },
  {
   "cell_type": "markdown",
   "metadata": {},
   "source": [
    "Model 정의(CNN 기반)"
   ]
  },
  {
   "cell_type": "code",
   "execution_count": 9,
   "metadata": {
    "vscode": {
     "languageId": "python"
    }
   },
   "outputs": [],
   "source": [
    "def get_model():\n",
    "    \n",
    "    model=Sequential([\n",
    "        Conv2D(filters=32,kernel_size=(3,3),padding='same',activation='relu',kernel_initializer='he_normal',input_shape=(32,32,3)),\n",
    "        BatchNormalization(),\n",
    "        Conv2D(filters=16,kernel_size=(3,3),padding='same',activation='relu'),\n",
    "        MaxPooling2D(pool_size=(2,2)),\n",
    "        Dropout(0.2),\n",
    "\n",
    "        Conv2D(filters=32,kernel_size=(3,3),padding='same',activation='relu',kernel_initializer='he_normal',input_shape=(32,32,3)),\n",
    "        BatchNormalization(),\n",
    "        Conv2D(filters=16,kernel_size=(3,3),padding='same',activation='relu'),\n",
    "        MaxPooling2D(pool_size=(2,2)),\n",
    "        Dropout(0.2),\n",
    "\n",
    "        Conv2D(filters=32,kernel_size=(3,3),padding='same',activation='relu',kernel_initializer='he_normal',input_shape=(32,32,3)),\n",
    "        BatchNormalization(),\n",
    "        Conv2D(filters=16,kernel_size=(3,3),padding='same',activation='relu'),\n",
    "        MaxPooling2D(pool_size=(2,2)),\n",
    "        Dropout(0.2),\n",
    "\n",
    "        Conv2D(filters=32,kernel_size=(3,3),padding='same',activation='relu',kernel_initializer='he_normal',input_shape=(32,32,3)),\n",
    "        BatchNormalization(),\n",
    "        Conv2D(filters=16,kernel_size=(3,3),padding='same',activation='relu'),\n",
    "        MaxPooling2D(pool_size=(2,2)),\n",
    "        Dropout(0.2),\n",
    "\n",
    "        Flatten(),\n",
    "        \n",
    "        Dense(units=128,activation='relu'),\n",
    "        Dropout(0.3),\n",
    "        Dense(units=10,activation='softmax') \n",
    "    ])\n",
    "\n",
    "    model.compile(optimizer='adam',loss='categorical_crossentropy',metrics=['acc'],)\n",
    "\n",
    "    return model"
   ]
  },
  {
   "cell_type": "code",
   "execution_count": null,
   "metadata": {
    "vscode": {
     "languageId": "python"
    }
   },
   "outputs": [],
   "source": [
    "tensorboard_callback=TensorBoard(log_dir=log_dir,histogram_freq=1)"
   ]
  },
  {
   "cell_type": "code",
   "execution_count": 10,
   "metadata": {
    "vscode": {
     "languageId": "python"
    }
   },
   "outputs": [],
   "source": [
    "model_checkpoint_best_path=r'.\\checkpoint_best_2'\n",
    "model_checkpoint_best=ModelCheckpoint(filepath=model_checkpoint_best_path,monitor='val_acc',save_best_only=True,save_weights_only=True,save_freq='epoch')\n",
    "\n",
    "early_stopping=EarlyStopping(monitor='val_acc',patience=20,min_delta=1e-4)"
   ]
  },
  {
   "cell_type": "code",
   "execution_count": null,
   "metadata": {
    "vscode": {
     "languageId": "python"
    }
   },
   "outputs": [],
   "source": [
    "model.summary()"
   ]
  },
  {
   "cell_type": "code",
   "execution_count": null,
   "metadata": {
    "vscode": {
     "languageId": "python"
    }
   },
   "outputs": [],
   "source": [
    "tf.config.experimental.list_physical_devices(\"GPU\")"
   ]
  },
  {
   "cell_type": "code",
   "execution_count": 11,
   "metadata": {
    "vscode": {
     "languageId": "python"
    }
   },
   "outputs": [
    {
     "name": "stdout",
     "output_type": "stream",
     "text": [
      "Epoch 1/200\n",
      "1407/1407 [==============================] - 15s 10ms/step - loss: 1.7859 - acc: 0.3294 - val_loss: 1.4439 - val_acc: 0.4654\n",
      "Epoch 2/200\n",
      "1407/1407 [==============================] - 13s 9ms/step - loss: 1.4046 - acc: 0.4867 - val_loss: 1.2590 - val_acc: 0.5398\n",
      "Epoch 3/200\n",
      "1407/1407 [==============================] - 13s 9ms/step - loss: 1.2607 - acc: 0.5487 - val_loss: 1.1035 - val_acc: 0.5980\n",
      "Epoch 4/200\n",
      "1407/1407 [==============================] - 13s 9ms/step - loss: 1.1750 - acc: 0.5801 - val_loss: 1.0644 - val_acc: 0.6182\n",
      "Epoch 5/200\n",
      "1407/1407 [==============================] - 13s 9ms/step - loss: 1.1289 - acc: 0.6000 - val_loss: 1.0265 - val_acc: 0.6234\n",
      "Epoch 6/200\n",
      "1407/1407 [==============================] - 13s 10ms/step - loss: 1.0804 - acc: 0.6180 - val_loss: 0.9677 - val_acc: 0.6562\n",
      "Epoch 7/200\n",
      "1407/1407 [==============================] - 13s 9ms/step - loss: 1.0465 - acc: 0.6316 - val_loss: 0.9711 - val_acc: 0.6556\n",
      "Epoch 8/200\n",
      "1407/1407 [==============================] - 12s 8ms/step - loss: 1.0092 - acc: 0.6436 - val_loss: 0.9327 - val_acc: 0.6674\n",
      "Epoch 9/200\n",
      "1407/1407 [==============================] - 13s 9ms/step - loss: 0.9847 - acc: 0.6510 - val_loss: 0.8908 - val_acc: 0.6772\n",
      "Epoch 10/200\n",
      "1407/1407 [==============================] - 14s 10ms/step - loss: 0.9599 - acc: 0.6624 - val_loss: 0.8431 - val_acc: 0.6990\n",
      "Epoch 11/200\n",
      "1407/1407 [==============================] - 14s 10ms/step - loss: 0.9434 - acc: 0.6714 - val_loss: 0.8282 - val_acc: 0.7002\n",
      "Epoch 12/200\n",
      "1407/1407 [==============================] - 13s 10ms/step - loss: 0.9227 - acc: 0.6779 - val_loss: 0.8204 - val_acc: 0.7000\n",
      "Epoch 13/200\n",
      "1407/1407 [==============================] - 14s 10ms/step - loss: 0.9099 - acc: 0.6811 - val_loss: 0.8697 - val_acc: 0.6956\n",
      "Epoch 14/200\n",
      "1407/1407 [==============================] - 14s 10ms/step - loss: 0.8957 - acc: 0.6907 - val_loss: 0.8387 - val_acc: 0.7038\n",
      "Epoch 15/200\n",
      "1407/1407 [==============================] - 13s 10ms/step - loss: 0.8807 - acc: 0.6955 - val_loss: 0.7970 - val_acc: 0.7254\n",
      "Epoch 16/200\n",
      "1407/1407 [==============================] - 11s 8ms/step - loss: 0.8739 - acc: 0.6968 - val_loss: 0.7605 - val_acc: 0.7306\n",
      "Epoch 17/200\n",
      "1407/1407 [==============================] - 11s 8ms/step - loss: 0.8693 - acc: 0.7000 - val_loss: 0.9422 - val_acc: 0.6702\n",
      "Epoch 18/200\n",
      "1407/1407 [==============================] - 11s 8ms/step - loss: 0.8528 - acc: 0.7049 - val_loss: 0.7686 - val_acc: 0.7280\n",
      "Epoch 19/200\n",
      "1407/1407 [==============================] - 11s 8ms/step - loss: 0.8390 - acc: 0.7085 - val_loss: 0.9459 - val_acc: 0.6802\n",
      "Epoch 20/200\n",
      "1407/1407 [==============================] - 11s 8ms/step - loss: 0.8350 - acc: 0.7121 - val_loss: 0.7797 - val_acc: 0.7208\n",
      "Epoch 21/200\n",
      "1407/1407 [==============================] - 11s 8ms/step - loss: 0.8269 - acc: 0.7151 - val_loss: 0.7615 - val_acc: 0.7344\n",
      "Epoch 22/200\n",
      "1407/1407 [==============================] - 11s 8ms/step - loss: 0.8183 - acc: 0.7173 - val_loss: 0.7436 - val_acc: 0.7418\n",
      "Epoch 23/200\n",
      "1407/1407 [==============================] - 10s 7ms/step - loss: 0.8144 - acc: 0.7182 - val_loss: 0.7316 - val_acc: 0.7472\n",
      "Epoch 24/200\n",
      "1407/1407 [==============================] - 11s 8ms/step - loss: 0.8136 - acc: 0.7212 - val_loss: 0.7975 - val_acc: 0.7176\n",
      "Epoch 25/200\n",
      "1407/1407 [==============================] - 10s 7ms/step - loss: 0.8034 - acc: 0.7249 - val_loss: 0.7505 - val_acc: 0.7378\n",
      "Epoch 26/200\n",
      "1407/1407 [==============================] - 10s 7ms/step - loss: 0.8016 - acc: 0.7254 - val_loss: 0.7554 - val_acc: 0.7312\n",
      "Epoch 27/200\n",
      "1407/1407 [==============================] - 10s 7ms/step - loss: 0.7879 - acc: 0.7266 - val_loss: 0.7030 - val_acc: 0.7526\n",
      "Epoch 28/200\n",
      "1407/1407 [==============================] - 10s 7ms/step - loss: 0.7828 - acc: 0.7302 - val_loss: 0.7276 - val_acc: 0.7468\n",
      "Epoch 29/200\n",
      "1407/1407 [==============================] - 11s 8ms/step - loss: 0.7781 - acc: 0.7326 - val_loss: 0.7055 - val_acc: 0.7496\n",
      "Epoch 30/200\n",
      "1407/1407 [==============================] - 11s 8ms/step - loss: 0.7752 - acc: 0.7336 - val_loss: 0.7172 - val_acc: 0.7506\n",
      "Epoch 31/200\n",
      "1407/1407 [==============================] - 11s 8ms/step - loss: 0.7748 - acc: 0.7356 - val_loss: 0.7298 - val_acc: 0.7444\n",
      "Epoch 32/200\n",
      "1407/1407 [==============================] - 11s 8ms/step - loss: 0.7696 - acc: 0.7355 - val_loss: 0.6930 - val_acc: 0.7556\n",
      "Epoch 33/200\n",
      "1407/1407 [==============================] - 11s 8ms/step - loss: 0.7595 - acc: 0.7384 - val_loss: 0.7011 - val_acc: 0.7566\n",
      "Epoch 34/200\n",
      "1407/1407 [==============================] - 11s 8ms/step - loss: 0.7602 - acc: 0.7388 - val_loss: 0.7034 - val_acc: 0.7538\n",
      "Epoch 35/200\n",
      "1407/1407 [==============================] - 11s 7ms/step - loss: 0.7542 - acc: 0.7408 - val_loss: 0.7130 - val_acc: 0.7514\n",
      "Epoch 36/200\n",
      "1407/1407 [==============================] - 10s 7ms/step - loss: 0.7484 - acc: 0.7422 - val_loss: 0.6929 - val_acc: 0.7586\n",
      "Epoch 37/200\n",
      "1407/1407 [==============================] - 11s 8ms/step - loss: 0.7511 - acc: 0.7398 - val_loss: 0.7041 - val_acc: 0.7502\n",
      "Epoch 38/200\n",
      "1407/1407 [==============================] - 11s 8ms/step - loss: 0.7482 - acc: 0.7421 - val_loss: 0.7151 - val_acc: 0.7532\n",
      "Epoch 39/200\n",
      "1407/1407 [==============================] - 11s 8ms/step - loss: 0.7443 - acc: 0.7446 - val_loss: 0.6887 - val_acc: 0.7588\n",
      "Epoch 40/200\n",
      "1407/1407 [==============================] - 11s 8ms/step - loss: 0.7393 - acc: 0.7471 - val_loss: 0.7396 - val_acc: 0.7420\n",
      "Epoch 41/200\n",
      "1407/1407 [==============================] - 11s 8ms/step - loss: 0.7402 - acc: 0.7477 - val_loss: 0.6974 - val_acc: 0.7586\n",
      "Epoch 42/200\n",
      "1407/1407 [==============================] - 11s 8ms/step - loss: 0.7352 - acc: 0.7450 - val_loss: 0.6608 - val_acc: 0.7668\n",
      "Epoch 43/200\n",
      "1407/1407 [==============================] - 11s 8ms/step - loss: 0.7313 - acc: 0.7492 - val_loss: 0.6838 - val_acc: 0.7620\n",
      "Epoch 44/200\n",
      "1407/1407 [==============================] - 11s 8ms/step - loss: 0.7234 - acc: 0.7512 - val_loss: 0.6679 - val_acc: 0.7676\n",
      "Epoch 45/200\n",
      "1407/1407 [==============================] - 11s 8ms/step - loss: 0.7264 - acc: 0.7496 - val_loss: 0.6856 - val_acc: 0.7654\n",
      "Epoch 46/200\n",
      "1407/1407 [==============================] - 11s 8ms/step - loss: 0.7269 - acc: 0.7522 - val_loss: 0.6552 - val_acc: 0.7732\n",
      "Epoch 47/200\n",
      "1407/1407 [==============================] - 11s 8ms/step - loss: 0.7210 - acc: 0.7549 - val_loss: 0.7711 - val_acc: 0.7332\n",
      "Epoch 48/200\n",
      "1407/1407 [==============================] - 11s 8ms/step - loss: 0.7210 - acc: 0.7508 - val_loss: 0.7415 - val_acc: 0.7498\n",
      "Epoch 49/200\n",
      "1407/1407 [==============================] - 10s 7ms/step - loss: 0.7237 - acc: 0.7527 - val_loss: 0.6732 - val_acc: 0.7672\n",
      "Epoch 50/200\n",
      "1407/1407 [==============================] - 10s 7ms/step - loss: 0.7146 - acc: 0.7551 - val_loss: 0.6552 - val_acc: 0.7730\n",
      "Epoch 51/200\n",
      "1407/1407 [==============================] - 11s 8ms/step - loss: 0.7104 - acc: 0.7590 - val_loss: 0.6479 - val_acc: 0.7736\n",
      "Epoch 52/200\n",
      "1407/1407 [==============================] - 11s 8ms/step - loss: 0.7132 - acc: 0.7561 - val_loss: 0.7342 - val_acc: 0.7494\n",
      "Epoch 53/200\n",
      "1407/1407 [==============================] - 10s 7ms/step - loss: 0.7094 - acc: 0.7568 - val_loss: 0.6606 - val_acc: 0.7690\n",
      "Epoch 54/200\n",
      "1407/1407 [==============================] - 11s 7ms/step - loss: 0.7102 - acc: 0.7575 - val_loss: 0.6562 - val_acc: 0.7738\n",
      "Epoch 55/200\n",
      "1407/1407 [==============================] - 11s 8ms/step - loss: 0.7079 - acc: 0.7559 - val_loss: 0.6717 - val_acc: 0.7670\n",
      "Epoch 56/200\n",
      "1407/1407 [==============================] - 11s 8ms/step - loss: 0.7031 - acc: 0.7595 - val_loss: 0.6686 - val_acc: 0.7664\n",
      "Epoch 57/200\n",
      "1407/1407 [==============================] - 11s 8ms/step - loss: 0.7065 - acc: 0.7567 - val_loss: 0.6833 - val_acc: 0.7604\n",
      "Epoch 58/200\n",
      "1407/1407 [==============================] - 11s 8ms/step - loss: 0.7007 - acc: 0.7612 - val_loss: 0.7048 - val_acc: 0.7568\n",
      "Epoch 59/200\n",
      "1407/1407 [==============================] - 11s 8ms/step - loss: 0.6992 - acc: 0.7610 - val_loss: 0.6625 - val_acc: 0.7644\n",
      "Epoch 60/200\n",
      "1407/1407 [==============================] - 11s 8ms/step - loss: 0.6970 - acc: 0.7636 - val_loss: 0.6992 - val_acc: 0.7586\n",
      "Epoch 61/200\n",
      "1407/1407 [==============================] - 11s 8ms/step - loss: 0.6996 - acc: 0.7625 - val_loss: 0.6387 - val_acc: 0.7780\n",
      "Epoch 62/200\n",
      "1407/1407 [==============================] - 11s 8ms/step - loss: 0.6969 - acc: 0.7615 - val_loss: 0.7216 - val_acc: 0.7492\n",
      "Epoch 63/200\n",
      "1407/1407 [==============================] - 11s 8ms/step - loss: 0.6896 - acc: 0.7652 - val_loss: 0.6394 - val_acc: 0.7770\n",
      "Epoch 64/200\n",
      "1407/1407 [==============================] - 11s 8ms/step - loss: 0.6902 - acc: 0.7639 - val_loss: 0.6246 - val_acc: 0.7852\n",
      "Epoch 65/200\n",
      "1407/1407 [==============================] - 11s 8ms/step - loss: 0.6900 - acc: 0.7638 - val_loss: 0.6643 - val_acc: 0.7684\n",
      "Epoch 66/200\n",
      "1407/1407 [==============================] - 11s 8ms/step - loss: 0.6929 - acc: 0.7612 - val_loss: 0.6751 - val_acc: 0.7678\n",
      "Epoch 67/200\n",
      "1407/1407 [==============================] - 11s 8ms/step - loss: 0.6869 - acc: 0.7638 - val_loss: 0.6257 - val_acc: 0.7870\n",
      "Epoch 68/200\n",
      "1407/1407 [==============================] - 11s 8ms/step - loss: 0.6829 - acc: 0.7657 - val_loss: 0.6549 - val_acc: 0.7782\n",
      "Epoch 69/200\n",
      "1407/1407 [==============================] - 10s 7ms/step - loss: 0.6847 - acc: 0.7655 - val_loss: 0.6806 - val_acc: 0.7672\n",
      "Epoch 70/200\n",
      "1407/1407 [==============================] - 11s 8ms/step - loss: 0.6822 - acc: 0.7648 - val_loss: 0.6101 - val_acc: 0.7912\n",
      "Epoch 71/200\n",
      "1407/1407 [==============================] - 11s 8ms/step - loss: 0.6828 - acc: 0.7660 - val_loss: 0.6652 - val_acc: 0.7726\n",
      "Epoch 72/200\n",
      "1407/1407 [==============================] - 11s 8ms/step - loss: 0.6868 - acc: 0.7652 - val_loss: 0.6525 - val_acc: 0.7754\n",
      "Epoch 73/200\n",
      "1407/1407 [==============================] - 10s 7ms/step - loss: 0.6884 - acc: 0.7643 - val_loss: 0.6685 - val_acc: 0.7650\n",
      "Epoch 74/200\n",
      "1407/1407 [==============================] - 10s 7ms/step - loss: 0.6729 - acc: 0.7692 - val_loss: 0.6960 - val_acc: 0.7606\n",
      "Epoch 75/200\n",
      "1407/1407 [==============================] - 10s 7ms/step - loss: 0.6760 - acc: 0.7674 - val_loss: 0.6554 - val_acc: 0.7718\n",
      "Epoch 76/200\n",
      "1407/1407 [==============================] - 10s 7ms/step - loss: 0.6719 - acc: 0.7709 - val_loss: 0.6254 - val_acc: 0.7858\n",
      "Epoch 77/200\n",
      "1407/1407 [==============================] - 10s 7ms/step - loss: 0.6719 - acc: 0.7693 - val_loss: 0.6664 - val_acc: 0.7686\n",
      "Epoch 78/200\n",
      "1407/1407 [==============================] - 11s 8ms/step - loss: 0.6751 - acc: 0.7705 - val_loss: 0.6073 - val_acc: 0.7886\n",
      "Epoch 79/200\n",
      "1407/1407 [==============================] - 12s 8ms/step - loss: 0.6789 - acc: 0.7669 - val_loss: 0.6204 - val_acc: 0.7802\n",
      "Epoch 80/200\n",
      "1407/1407 [==============================] - 11s 8ms/step - loss: 0.6676 - acc: 0.7713 - val_loss: 0.6677 - val_acc: 0.7652\n",
      "Epoch 81/200\n",
      "1407/1407 [==============================] - 11s 8ms/step - loss: 0.6735 - acc: 0.7684 - val_loss: 0.6770 - val_acc: 0.7660\n",
      "Epoch 82/200\n",
      "1407/1407 [==============================] - 11s 8ms/step - loss: 0.6705 - acc: 0.7703 - val_loss: 0.6414 - val_acc: 0.7784\n",
      "Epoch 83/200\n",
      "1407/1407 [==============================] - 11s 8ms/step - loss: 0.6699 - acc: 0.7697 - val_loss: 0.6202 - val_acc: 0.7842\n",
      "Epoch 84/200\n",
      "1407/1407 [==============================] - 10s 7ms/step - loss: 0.6701 - acc: 0.7708 - val_loss: 0.6109 - val_acc: 0.7866\n",
      "Epoch 85/200\n",
      "1407/1407 [==============================] - 10s 7ms/step - loss: 0.6681 - acc: 0.7707 - val_loss: 0.6125 - val_acc: 0.7862\n",
      "Epoch 86/200\n",
      "1407/1407 [==============================] - 11s 8ms/step - loss: 0.6718 - acc: 0.7734 - val_loss: 0.6146 - val_acc: 0.7888\n",
      "Epoch 87/200\n",
      "1407/1407 [==============================] - 11s 8ms/step - loss: 0.6717 - acc: 0.7721 - val_loss: 0.6428 - val_acc: 0.7796\n",
      "Epoch 88/200\n",
      "1407/1407 [==============================] - 11s 8ms/step - loss: 0.6625 - acc: 0.7712 - val_loss: 0.6813 - val_acc: 0.7644\n",
      "Epoch 89/200\n",
      "1407/1407 [==============================] - 11s 8ms/step - loss: 0.6638 - acc: 0.7730 - val_loss: 0.6470 - val_acc: 0.7800\n",
      "Epoch 90/200\n",
      "1407/1407 [==============================] - 12s 8ms/step - loss: 0.6638 - acc: 0.7718 - val_loss: 0.6649 - val_acc: 0.7714\n"
     ]
    }
   ],
   "source": [
    "model=get_model()\n",
    "history=model.fit(x_train,\n",
    "        y_train,\n",
    "        epochs=200,\n",
    "        batch_size=32,\n",
    "        validation_data=(x_val,y_val),\n",
    "        verbose=1,\n",
    "        callbacks=[model_checkpoint_best,early_stopping])"
   ]
  },
  {
   "cell_type": "markdown",
   "metadata": {},
   "source": [
    "Model 학습"
   ]
  },
  {
   "cell_type": "code",
   "execution_count": 13,
   "metadata": {
    "vscode": {
     "languageId": "python"
    }
   },
   "outputs": [
    {
     "name": "stdout",
     "output_type": "stream",
     "text": [
      "157/157 [==============================] - 1s 5ms/step - loss: 0.6101 - acc: 0.7912\n"
     ]
    }
   ],
   "source": [
    "model=get_model()\n",
    "model.load_weights(model_checkpoint_best_path)\n",
    "test_loss,test_acc=model.evaluate(x=x_val,y=y_val,verbose=1)"
   ]
  },
  {
   "cell_type": "markdown",
   "metadata": {},
   "source": [
    "Train 및 Validation acc 시각화"
   ]
  },
  {
   "cell_type": "code",
   "execution_count": 12,
   "metadata": {
    "vscode": {
     "languageId": "python"
    }
   },
   "outputs": [
    {
     "data": {
      "image/png": "[encoded data removed]",
      "text/plain": [
       "<Figure size 640x480 with 1 Axes>"
      ]
     },
     "metadata": {},
     "output_type": "display_data"
    }
   ],
   "source": [
    "plt.plot(history.history['acc'])\n",
    "plt.plot(history.history['val_acc'])\n",
    "plt.ylabel('acc')\n",
    "plt.xlabel('epochs')\n",
    "plt.legend(['training','validation'],loc='upper right')\n",
    "plt.show()"
   ]
  },
  {
   "cell_type": "markdown",
   "metadata": {},
   "source": [
    "Test dataset 검증"
   ]
  },
  {
   "cell_type": "code",
   "execution_count": 14,
   "metadata": {
    "vscode": {
     "languageId": "python"
    }
   },
   "outputs": [
    {
     "name": "stdout",
     "output_type": "stream",
     "text": [
      "313/313 [==============================] - 2s 5ms/step - loss: 0.6233 - acc: 0.7882\n"
     ]
    }
   ],
   "source": [
    "test_loss,test_acc=model.evaluate(x=x_test,y=y_test,verbose=1)"
   ]
  }
 ],
 "metadata": {
  "kernelspec": {
   "display_name": "deep",
   "language": "python",
   "name": "deep"
  },
  "orig_nbformat": 4,
  "vscode": {
   "interpreter": {
    "hash": "2aa449cdabfa2015c02c49b6052644087a8272ff24b4438d56a7aabf7a36706b"
   }
  }
 },
 "nbformat": 4,
 "nbformat_minor": 2
}
