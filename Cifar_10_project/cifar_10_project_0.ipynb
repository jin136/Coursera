{
 "cells": [
  {
   "attachments": {},
   "cell_type": "markdown",
   "metadata": {},
   "source": [
    "Cifar-10 Project_0 val 88퍼센트 test 87퍼센트"
   ]
  },
  {
   "cell_type": "code",
   "execution_count": 1,
   "metadata": {
    "vscode": {
     "languageId": "python"
    }
   },
   "outputs": [
    {
     "data": {
      "text/plain": [
       "'2.10.0'"
      ]
     },
     "execution_count": 1,
     "metadata": {},
     "output_type": "execute_result"
    }
   ],
   "source": [
    "import tensorflow as tf\n",
    "tf.__version__"
   ]
  },
  {
   "cell_type": "markdown",
   "metadata": {},
   "source": []
  },
  {
   "cell_type": "code",
   "execution_count": 3,
   "metadata": {
    "vscode": {
     "languageId": "python"
    }
   },
   "outputs": [],
   "source": [
    "import tensorflow as tf\n",
    "from tensorflow.keras.layers import Dense,Conv2D,MaxPooling2D,Flatten,BatchNormalization,Dropout\n",
    "from tensorflow.keras.models import Sequential\n",
    "from tensorflow.keras.callbacks import ModelCheckpoint,EarlyStopping\n",
    "from tensorflow.keras import initializers\n",
    "from sklearn.model_selection import train_test_split\n",
    "\n",
    "import numpy as np\n",
    "import matplotlib.pyplot as plt"
   ]
  },
  {
   "cell_type": "markdown",
   "metadata": {},
   "source": [
    "Data uploading  "
   ]
  },
  {
   "cell_type": "code",
   "execution_count": 4,
   "metadata": {
    "vscode": {
     "languageId": "python"
    }
   },
   "outputs": [],
   "source": [
    "(x_train,y_train),(x_test,y_test)=tf.keras.datasets.cifar10.load_data()"
   ]
  },
  {
   "cell_type": "markdown",
   "metadata": {},
   "source": [
    "Data Prerposessing"
   ]
  },
  {
   "cell_type": "code",
   "execution_count": 5,
   "metadata": {
    "vscode": {
     "languageId": "python"
    }
   },
   "outputs": [],
   "source": [
    "# Normalization\n",
    "x_train=x_train/.255\n",
    "\n",
    "x_test=x_test/.255\n",
    "\n",
    "#One-hot encoding\n",
    "y_train = tf.keras.utils.to_categorical(np.array(y_train))\n",
    "y_test = tf.keras.utils.to_categorical(np.array(y_test))"
   ]
  },
  {
   "cell_type": "code",
   "execution_count": 6,
   "metadata": {
    "vscode": {
     "languageId": "python"
    }
   },
   "outputs": [],
   "source": [
    "x_train,x_val,y_train,y_val = train_test_split(x_train,y_train,test_size=0.1,random_state=30)"
   ]
  },
  {
   "cell_type": "code",
   "execution_count": 6,
   "metadata": {
    "vscode": {
     "languageId": "python"
    }
   },
   "outputs": [
    {
     "data": {
      "text/plain": [
       "(45000, 32, 32, 3)"
      ]
     },
     "execution_count": 6,
     "metadata": {},
     "output_type": "execute_result"
    }
   ],
   "source": [
    "x_train.shape"
   ]
  },
  {
   "cell_type": "markdown",
   "metadata": {},
   "source": [
    "Model 정의(CNN 기반)"
   ]
  },
  {
   "cell_type": "code",
   "execution_count": 7,
   "metadata": {
    "vscode": {
     "languageId": "python"
    }
   },
   "outputs": [],
   "source": [
    "def get_model():\n",
    "    \n",
    "    model=Sequential([\n",
    "        Conv2D(filters=128,kernel_size=(3,3),padding='same',activation='relu',kernel_initializer='he_normal',input_shape=(32,32,3)),\n",
    "        BatchNormalization(),\n",
    "        Conv2D(filters=128,kernel_size=(3,3),padding='same',kernel_initializer='he_normal',activation='relu'),\n",
    "        MaxPooling2D(pool_size=(2,2)),\n",
    "        Dropout(0.2),\n",
    "\n",
    "        Conv2D(filters=128,kernel_size=(3,3),padding='same',kernel_initializer='he_normal',activation='relu'),\n",
    "        BatchNormalization(),\n",
    "        Conv2D(filters=128,kernel_size=(3,3),padding='same',activation='relu'),\n",
    "        MaxPooling2D(pool_size=(2,2)),\n",
    "        Dropout(0.2),\n",
    "\n",
    "        Conv2D(filters=256,kernel_size=(3,3),padding='same',kernel_initializer='he_normal',activation='relu'),\n",
    "        BatchNormalization(),\n",
    "        Conv2D(filters=256,kernel_size=(3,3),padding='same',activation='relu'),\n",
    "        MaxPooling2D(pool_size=(2,2)),\n",
    "        Dropout(0.3),\n",
    "\n",
    "        Conv2D(filters=256,kernel_size=(3,3),padding='same',kernel_initializer='he_normal',activation='relu'),\n",
    "        BatchNormalization(),\n",
    "        Conv2D(filters=256,kernel_size=(3,3),padding='same',activation='relu'),\n",
    "        MaxPooling2D(pool_size=(2,2)),\n",
    "        Dropout(0.2),\n",
    "\n",
    "        Flatten(),\n",
    "        \n",
    "        Dense(units=128,activation='relu'),\n",
    "        BatchNormalization(),\n",
    "        Dense(units=64,activation='relu'),\n",
    "        Dropout(0.3),\n",
    "        Dense(units=10,activation='softmax') \n",
    "    ])\n",
    "\n",
    "    model.compile(optimizer=tf.keras.optimizers.Adam(learning_rate=0.001,decay=0.0001),loss='categorical_crossentropy',metrics=['acc'],)\n",
    "\n",
    "    return model"
   ]
  },
  {
   "cell_type": "code",
   "execution_count": 8,
   "metadata": {
    "vscode": {
     "languageId": "python"
    }
   },
   "outputs": [],
   "source": [
    "model_checkpoint_best_path=r'.\\checkpoint_best'\n",
    "model_checkpoint_best=ModelCheckpoint(filepath=model_checkpoint_best_path,monitor='val_acc',save_best_only=True,save_weights_only=True,save_freq='epoch')\n",
    "\n",
    "early_stopping=EarlyStopping(monitor='val_acc',patience=20,min_delta=1e-4)"
   ]
  },
  {
   "cell_type": "code",
   "execution_count": null,
   "metadata": {
    "vscode": {
     "languageId": "python"
    }
   },
   "outputs": [],
   "source": [
    "model.summary()"
   ]
  },
  {
   "cell_type": "markdown",
   "metadata": {},
   "source": [
    "Model 학습"
   ]
  },
  {
   "cell_type": "code",
   "execution_count": 9,
   "metadata": {
    "vscode": {
     "languageId": "python"
    }
   },
   "outputs": [],
   "source": [
    "import os\n",
    "os.environ[\"CUDA_DEVICE_ORDER\"]=\"PCI_BUS_ID\"   # see issue #152\n",
    "os.environ[\"CUDA_VISIBLE_DEVICES\"]=\"0\""
   ]
  },
  {
   "cell_type": "code",
   "execution_count": 10,
   "metadata": {
    "vscode": {
     "languageId": "python"
    }
   },
   "outputs": [
    {
     "name": "stdout",
     "output_type": "stream",
     "text": [
      "Epoch 1/100\n",
      "1407/1407 [==============================] - 43s 26ms/step - loss: 1.5296 - acc: 0.4450 - val_loss: 1.2460 - val_acc: 0.5512\n",
      "Epoch 2/100\n",
      "1407/1407 [==============================] - 36s 26ms/step - loss: 0.9885 - acc: 0.6573 - val_loss: 0.8831 - val_acc: 0.6936\n",
      "Epoch 3/100\n",
      "1407/1407 [==============================] - 36s 26ms/step - loss: 0.7712 - acc: 0.7396 - val_loss: 0.6818 - val_acc: 0.7642\n",
      "Epoch 4/100\n",
      "1407/1407 [==============================] - 36s 25ms/step - loss: 0.6377 - acc: 0.7869 - val_loss: 0.6726 - val_acc: 0.7746\n",
      "Epoch 5/100\n",
      "1407/1407 [==============================] - 36s 26ms/step - loss: 0.5345 - acc: 0.8224 - val_loss: 0.5628 - val_acc: 0.8094\n",
      "Epoch 6/100\n",
      "1407/1407 [==============================] - 36s 26ms/step - loss: 0.4525 - acc: 0.8510 - val_loss: 0.5136 - val_acc: 0.8264\n",
      "Epoch 7/100\n",
      "1407/1407 [==============================] - 36s 25ms/step - loss: 0.3867 - acc: 0.8732 - val_loss: 0.5182 - val_acc: 0.8338\n",
      "Epoch 8/100\n",
      "1407/1407 [==============================] - 36s 25ms/step - loss: 0.3298 - acc: 0.8916 - val_loss: 0.4857 - val_acc: 0.8426\n",
      "Epoch 9/100\n",
      "1407/1407 [==============================] - 35s 25ms/step - loss: 0.2772 - acc: 0.9087 - val_loss: 0.4865 - val_acc: 0.8532\n",
      "Epoch 10/100\n",
      "1407/1407 [==============================] - 35s 25ms/step - loss: 0.2420 - acc: 0.9195 - val_loss: 0.5396 - val_acc: 0.8414\n",
      "Epoch 11/100\n",
      "1407/1407 [==============================] - 41s 29ms/step - loss: 0.2016 - acc: 0.9328 - val_loss: 0.5054 - val_acc: 0.8592\n",
      "Epoch 12/100\n",
      "1407/1407 [==============================] - 47s 33ms/step - loss: 0.1747 - acc: 0.9420 - val_loss: 0.5219 - val_acc: 0.8556\n",
      "Epoch 13/100\n",
      "1407/1407 [==============================] - 36s 26ms/step - loss: 0.1556 - acc: 0.9491 - val_loss: 0.5494 - val_acc: 0.8558\n",
      "Epoch 14/100\n",
      "1407/1407 [==============================] - 35s 25ms/step - loss: 0.1397 - acc: 0.9543 - val_loss: 0.5923 - val_acc: 0.8532\n",
      "Epoch 15/100\n",
      "1407/1407 [==============================] - 35s 25ms/step - loss: 0.1200 - acc: 0.9611 - val_loss: 0.5611 - val_acc: 0.8648\n",
      "Epoch 16/100\n",
      "1407/1407 [==============================] - 36s 25ms/step - loss: 0.1056 - acc: 0.9651 - val_loss: 0.5327 - val_acc: 0.8724\n",
      "Epoch 17/100\n",
      "1407/1407 [==============================] - 35s 25ms/step - loss: 0.0902 - acc: 0.9704 - val_loss: 0.6242 - val_acc: 0.8574\n",
      "Epoch 18/100\n",
      "1407/1407 [==============================] - 35s 25ms/step - loss: 0.0851 - acc: 0.9725 - val_loss: 0.6192 - val_acc: 0.8604\n",
      "Epoch 19/100\n",
      "1407/1407 [==============================] - 35s 25ms/step - loss: 0.0769 - acc: 0.9754 - val_loss: 0.5957 - val_acc: 0.8686\n",
      "Epoch 20/100\n",
      "1407/1407 [==============================] - 36s 25ms/step - loss: 0.0712 - acc: 0.9770 - val_loss: 0.5894 - val_acc: 0.8682\n",
      "Epoch 21/100\n",
      "1407/1407 [==============================] - 37s 26ms/step - loss: 0.0680 - acc: 0.9781 - val_loss: 0.5863 - val_acc: 0.8730\n",
      "Epoch 22/100\n",
      "1407/1407 [==============================] - 47s 34ms/step - loss: 0.0632 - acc: 0.9789 - val_loss: 0.6080 - val_acc: 0.8740\n",
      "Epoch 23/100\n",
      "1407/1407 [==============================] - 47s 33ms/step - loss: 0.0570 - acc: 0.9818 - val_loss: 0.5981 - val_acc: 0.8766\n",
      "Epoch 24/100\n",
      "1407/1407 [==============================] - 47s 33ms/step - loss: 0.0555 - acc: 0.9824 - val_loss: 0.6233 - val_acc: 0.8726\n",
      "Epoch 25/100\n",
      "1407/1407 [==============================] - 47s 33ms/step - loss: 0.0519 - acc: 0.9832 - val_loss: 0.6025 - val_acc: 0.8714\n",
      "Epoch 26/100\n",
      "1407/1407 [==============================] - 47s 33ms/step - loss: 0.0515 - acc: 0.9834 - val_loss: 0.5856 - val_acc: 0.8738\n",
      "Epoch 27/100\n",
      "1407/1407 [==============================] - 47s 33ms/step - loss: 0.0431 - acc: 0.9864 - val_loss: 0.6588 - val_acc: 0.8680\n",
      "Epoch 28/100\n",
      "1407/1407 [==============================] - 47s 33ms/step - loss: 0.0450 - acc: 0.9855 - val_loss: 0.6454 - val_acc: 0.8720\n",
      "Epoch 29/100\n",
      "1407/1407 [==============================] - 47s 33ms/step - loss: 0.0393 - acc: 0.9871 - val_loss: 0.6663 - val_acc: 0.8728\n",
      "Epoch 30/100\n",
      "1407/1407 [==============================] - 47s 33ms/step - loss: 0.0384 - acc: 0.9878 - val_loss: 0.6148 - val_acc: 0.8788\n",
      "Epoch 31/100\n",
      "1407/1407 [==============================] - 47s 33ms/step - loss: 0.0362 - acc: 0.9882 - val_loss: 0.6558 - val_acc: 0.8776\n",
      "Epoch 32/100\n",
      "1407/1407 [==============================] - 47s 33ms/step - loss: 0.0362 - acc: 0.9886 - val_loss: 0.6866 - val_acc: 0.8696\n",
      "Epoch 33/100\n",
      "1407/1407 [==============================] - 47s 33ms/step - loss: 0.0322 - acc: 0.9898 - val_loss: 0.6982 - val_acc: 0.8722\n",
      "Epoch 34/100\n",
      "1407/1407 [==============================] - 47s 33ms/step - loss: 0.0307 - acc: 0.9901 - val_loss: 0.7125 - val_acc: 0.8726\n",
      "Epoch 35/100\n",
      "1407/1407 [==============================] - 47s 33ms/step - loss: 0.0324 - acc: 0.9894 - val_loss: 0.6887 - val_acc: 0.8734\n",
      "Epoch 36/100\n",
      "1407/1407 [==============================] - 47s 34ms/step - loss: 0.0302 - acc: 0.9900 - val_loss: 0.6587 - val_acc: 0.8796\n",
      "Epoch 37/100\n",
      "1407/1407 [==============================] - 47s 34ms/step - loss: 0.0289 - acc: 0.9909 - val_loss: 0.6485 - val_acc: 0.8810\n",
      "Epoch 38/100\n",
      "1407/1407 [==============================] - 47s 34ms/step - loss: 0.0301 - acc: 0.9908 - val_loss: 0.6627 - val_acc: 0.8816\n",
      "Epoch 39/100\n",
      "1407/1407 [==============================] - 47s 33ms/step - loss: 0.0256 - acc: 0.9925 - val_loss: 0.7224 - val_acc: 0.8786\n",
      "Epoch 40/100\n",
      "1407/1407 [==============================] - 38s 27ms/step - loss: 0.0257 - acc: 0.9916 - val_loss: 0.6730 - val_acc: 0.8780\n",
      "Epoch 41/100\n",
      "1407/1407 [==============================] - 35s 25ms/step - loss: 0.0223 - acc: 0.9929 - val_loss: 0.6871 - val_acc: 0.8790\n",
      "Epoch 42/100\n",
      "1407/1407 [==============================] - 36s 26ms/step - loss: 0.0232 - acc: 0.9924 - val_loss: 0.7277 - val_acc: 0.8730\n",
      "Epoch 43/100\n",
      "1407/1407 [==============================] - 35s 25ms/step - loss: 0.0230 - acc: 0.9935 - val_loss: 0.7228 - val_acc: 0.8776\n",
      "Epoch 44/100\n",
      "1407/1407 [==============================] - 35s 25ms/step - loss: 0.0229 - acc: 0.9926 - val_loss: 0.7197 - val_acc: 0.8794\n",
      "Epoch 45/100\n",
      "1407/1407 [==============================] - 35s 25ms/step - loss: 0.0222 - acc: 0.9932 - val_loss: 0.7113 - val_acc: 0.8802\n",
      "Epoch 46/100\n",
      "1407/1407 [==============================] - 35s 25ms/step - loss: 0.0220 - acc: 0.9930 - val_loss: 0.7300 - val_acc: 0.8766\n",
      "Epoch 47/100\n",
      "1407/1407 [==============================] - 35s 25ms/step - loss: 0.0179 - acc: 0.9942 - val_loss: 0.7323 - val_acc: 0.8778\n",
      "Epoch 48/100\n",
      "1407/1407 [==============================] - 35s 25ms/step - loss: 0.0181 - acc: 0.9943 - val_loss: 0.7599 - val_acc: 0.8728\n",
      "Epoch 49/100\n",
      "1407/1407 [==============================] - 35s 25ms/step - loss: 0.0184 - acc: 0.9942 - val_loss: 0.7531 - val_acc: 0.8738\n",
      "Epoch 50/100\n",
      "1407/1407 [==============================] - 36s 25ms/step - loss: 0.0181 - acc: 0.9944 - val_loss: 0.7783 - val_acc: 0.8732\n",
      "Epoch 51/100\n",
      "1407/1407 [==============================] - 36s 25ms/step - loss: 0.0210 - acc: 0.9937 - val_loss: 0.7420 - val_acc: 0.8778\n",
      "Epoch 52/100\n",
      "1407/1407 [==============================] - 36s 25ms/step - loss: 0.0168 - acc: 0.9945 - val_loss: 0.7350 - val_acc: 0.8776\n",
      "Epoch 53/100\n",
      "1407/1407 [==============================] - 36s 25ms/step - loss: 0.0159 - acc: 0.9948 - val_loss: 0.7540 - val_acc: 0.8770\n",
      "Epoch 54/100\n",
      "1407/1407 [==============================] - 35s 25ms/step - loss: 0.0166 - acc: 0.9949 - val_loss: 0.7292 - val_acc: 0.8782\n",
      "Epoch 55/100\n",
      "1407/1407 [==============================] - 35s 25ms/step - loss: 0.0159 - acc: 0.9949 - val_loss: 0.7698 - val_acc: 0.8758\n",
      "Epoch 56/100\n",
      "1407/1407 [==============================] - 35s 25ms/step - loss: 0.0167 - acc: 0.9950 - val_loss: 0.7409 - val_acc: 0.8736\n",
      "Epoch 57/100\n",
      "1407/1407 [==============================] - 35s 25ms/step - loss: 0.0159 - acc: 0.9950 - val_loss: 0.7304 - val_acc: 0.8798\n",
      "Epoch 58/100\n",
      "1407/1407 [==============================] - 35s 25ms/step - loss: 0.0151 - acc: 0.9955 - val_loss: 0.7285 - val_acc: 0.8798\n"
     ]
    }
   ],
   "source": [
    "model=get_model()\n",
    "history=model.fit(x_train,y_train,epochs=100,validation_data=(x_val,y_val),verbose=1,callbacks=[model_checkpoint_best,early_stopping])"
   ]
  },
  {
   "cell_type": "code",
   "execution_count": 12,
   "metadata": {
    "vscode": {
     "languageId": "python"
    }
   },
   "outputs": [
    {
     "name": "stdout",
     "output_type": "stream",
     "text": [
      "157/157 [==============================] - 1s 7ms/step - loss: 0.6627 - acc: 0.8816\n"
     ]
    }
   ],
   "source": [
    "model=get_model()\n",
    "model.load_weights(model_checkpoint_best_path)\n",
    "test_loss,test_acc=model.evaluate(x=x_val,y=y_val,verbose=1)"
   ]
  },
  {
   "cell_type": "markdown",
   "metadata": {},
   "source": [
    "Train 및 Validation acc 시각화"
   ]
  },
  {
   "cell_type": "code",
   "execution_count": 13,
   "metadata": {
    "vscode": {
     "languageId": "python"
    }
   },
   "outputs": [
    {
     "data": {
      "image/png": "[encoded data removed]",
      "text/plain": [
       "<Figure size 640x480 with 1 Axes>"
      ]
     },
     "metadata": {},
     "output_type": "display_data"
    }
   ],
   "source": [
    "plt.plot(history.history['acc'])\n",
    "plt.plot(history.history['val_acc'])\n",
    "plt.ylabel('acc')\n",
    "plt.xlabel('epochs')\n",
    "plt.legend(['training','validation'],loc='upper right')\n",
    "plt.show()"
   ]
  },
  {
   "cell_type": "markdown",
   "metadata": {},
   "source": [
    "Test dataset 검증"
   ]
  },
  {
   "cell_type": "code",
   "execution_count": 14,
   "metadata": {
    "vscode": {
     "languageId": "python"
    }
   },
   "outputs": [
    {
     "name": "stdout",
     "output_type": "stream",
     "text": [
      "313/313 [==============================] - 2s 7ms/step - loss: 0.6963 - acc: 0.8736\n"
     ]
    }
   ],
   "source": [
    "test_loss,test_acc=model.evaluate(x=x_test,y=y_test,verbose=1)"
   ]
  }
 ],
 "metadata": {
  "kernelspec": {
   "display_name": "deep",
   "language": "python",
   "name": "deep"
  },
  "orig_nbformat": 4,
  "vscode": {
   "interpreter": {
    "hash": "5a10d5f0a9f1bc240740a4093f8818c11777c13ffd514f3f7eba0189d7b36965"
   }
  }
 },
 "nbformat": 4,
 "nbformat_minor": 2
}
