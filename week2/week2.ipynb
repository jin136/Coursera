{
 "cells": [
  {
   "cell_type": "code",
   "execution_count": null,
   "metadata": {},
   "outputs": [],
   "source": [
    "import tensorflow as tf\n",
    "print(tf.__version__)"
   ]
  },
  {
   "cell_type": "code",
   "execution_count": 2,
   "metadata": {},
   "outputs": [],
   "source": [
    "%matplotlib inline\n",
    "import matplotlib.pyplot as plt\n",
    "import numpy as np\n",
    "import pandas as pd\n",
    "\n",
    "from tensorflow.keras.models import Sequential\n",
    "from tensorflow.keras.layers import Dense, Flatten, Softmax, Conv1D, Conv2D, MaxPooling2D, MaxPooling1D\n",
    "from tensorflow.keras.preprocessing import image\n",
    "import tensorflow.keras.backend as K"
   ]
  },
  {
   "cell_type": "code",
   "execution_count": 90,
   "metadata": {},
   "outputs": [],
   "source": [
    "# Build the Sequential feedforward neural network model\n",
    "model = Sequential([\n",
    "    Flatten(input_shape=(28, 28)),\n",
    "    Dense(16, activation='relu', kernel_initializer='glorot_uniform',\n",
    "    bias_initializer='one'), \n",
    "    Dense(32, activation='relu'),\n",
    "    Dense(8, activation='relu',use_bias=False),\n",
    "    Dense(10, activation='softmax'),\n",
    "])"
   ]
  },
  {
   "cell_type": "code",
   "execution_count": 96,
   "metadata": {},
   "outputs": [
    {
     "data": {
      "text/plain": [
       "7"
      ]
     },
     "execution_count": 96,
     "metadata": {},
     "output_type": "execute_result"
    }
   ],
   "source": [
    "# https://rfriend.tistory.com/720\n",
    "# 참고자료\n",
    "len(model.weights)\n",
    "model.weights[7]"
   ]
  },
  {
   "cell_type": "code",
   "execution_count": 62,
   "metadata": {},
   "outputs": [
    {
     "name": "stdout",
     "output_type": "stream",
     "text": [
      "Model: \"sequential_4\"\n",
      "_________________________________________________________________\n",
      " Layer (type)                Output Shape              Param #   \n",
      "=================================================================\n",
      " flatten_4 (Flatten)         (None, 784)               0         \n",
      "                                                                 \n",
      " dense_16 (Dense)            (None, 16)                12560     \n",
      "                                                                 \n",
      " dense_17 (Dense)            (None, 32)                544       \n",
      "                                                                 \n",
      " dense_18 (Dense)            (None, 8)                 264       \n",
      "                                                                 \n",
      " dense_19 (Dense)            (None, 10)                90        \n",
      "                                                                 \n",
      "=================================================================\n",
      "Total params: 13,458\n",
      "Trainable params: 13,458\n",
      "Non-trainable params: 0\n",
      "_________________________________________________________________\n"
     ]
    }
   ],
   "source": [
    "model.summary()"
   ]
  },
  {
   "cell_type": "code",
   "execution_count": 75,
   "metadata": {},
   "outputs": [],
   "source": [
    "CNN_model = Sequential([\n",
    "    Conv1D(filters=16, kernel_size=3, input_shape=(128, 64), kernel_initializer='random_uniform', bias_initializer=\"zeros\", activation='relu'),\n",
    "    MaxPooling1D(pool_size=4),\n",
    "    Flatten(),\n",
    "    Dense(64, kernel_initializer='he_uniform', bias_initializer='ones', activation='relu', name='conv_FC1'),\n",
    "])"
   ]
  },
  {
   "cell_type": "code",
   "execution_count": 76,
   "metadata": {},
   "outputs": [
    {
     "name": "stdout",
     "output_type": "stream",
     "text": [
      "Model: \"sequential_9\"\n",
      "_________________________________________________________________\n",
      " Layer (type)                Output Shape              Param #   \n",
      "=================================================================\n",
      " conv1d_1 (Conv1D)           (None, 126, 16)           3088      \n",
      "                                                                 \n",
      " max_pooling1d_1 (MaxPooling  (None, 31, 16)           0         \n",
      " 1D)                                                             \n",
      "                                                                 \n",
      " flatten_10 (Flatten)        (None, 496)               0         \n",
      "                                                                 \n",
      " conv_FC1 (Dense)            (None, 64)                31808     \n",
      "                                                                 \n",
      "=================================================================\n",
      "Total params: 34,896\n",
      "Trainable params: 34,896\n",
      "Non-trainable params: 0\n",
      "_________________________________________________________________\n"
     ]
    }
   ],
   "source": [
    "CNN_model.summary()"
   ]
  },
  {
   "cell_type": "code",
   "execution_count": 77,
   "metadata": {},
   "outputs": [],
   "source": [
    "CNN_model.add(Dense(64,\n",
    "                kernel_initializer=tf.keras.initializers.HeNormal(),\n",
    "                bias_initializer=tf.keras.initializers.Constant(value=0.4),\n",
    "                activation='relu', name='conv_FC2'),)"
   ]
  },
  {
   "cell_type": "code",
   "execution_count": 78,
   "metadata": {},
   "outputs": [
    {
     "name": "stdout",
     "output_type": "stream",
     "text": [
      "Model: \"sequential_9\"\n",
      "_________________________________________________________________\n",
      " Layer (type)                Output Shape              Param #   \n",
      "=================================================================\n",
      " conv1d_1 (Conv1D)           (None, 126, 16)           3088      \n",
      "                                                                 \n",
      " max_pooling1d_1 (MaxPooling  (None, 31, 16)           0         \n",
      " 1D)                                                             \n",
      "                                                                 \n",
      " flatten_10 (Flatten)        (None, 496)               0         \n",
      "                                                                 \n",
      " conv_FC1 (Dense)            (None, 64)                31808     \n",
      "                                                                 \n",
      " conv_FC2 (Dense)            (None, 64)                4160      \n",
      "                                                                 \n",
      "=================================================================\n",
      "Total params: 39,056\n",
      "Trainable params: 39,056\n",
      "Non-trainable params: 0\n",
      "_________________________________________________________________\n"
     ]
    }
   ],
   "source": [
    "CNN_model.summary()"
   ]
  },
  {
   "cell_type": "code",
   "execution_count": 79,
   "metadata": {},
   "outputs": [],
   "source": [
    "#Example of a custom initializer\n",
    "def my_init(shape, dtype=None):\n",
    "    return K.random_normal(shape, dtype=dtype)\n",
    "\n",
    "CNN_model.add(Dense(64, kernel_initializer=my_init))"
   ]
  },
  {
   "cell_type": "code",
   "execution_count": 81,
   "metadata": {},
   "outputs": [
    {
     "data": {
      "text/plain": [
       "[<tf.Variable 'conv1d_1/kernel:0' shape=(3, 64, 16) dtype=float32, numpy=\n",
       " array([[[ 0.02142968,  0.02748319,  0.01694235, ..., -0.00132915,\n",
       "           0.04299745, -0.02153972],\n",
       "         [-0.00053589, -0.00024643, -0.04406988, ...,  0.01508081,\n",
       "           0.03226266, -0.00881296],\n",
       "         [-0.004662  ,  0.04367416,  0.03371433, ..., -0.01302226,\n",
       "           0.04047474, -0.01175867],\n",
       "         ...,\n",
       "         [ 0.04266205,  0.04493907, -0.01596852, ..., -0.01313094,\n",
       "          -0.01427585, -0.0287931 ],\n",
       "         [ 0.03687728,  0.02085536, -0.04993049, ...,  0.04032258,\n",
       "           0.0057954 , -0.04778611],\n",
       "         [ 0.00239956, -0.01622046,  0.02396509, ..., -0.0294327 ,\n",
       "           0.01613792,  0.03876612]],\n",
       " \n",
       "        [[-0.04868053, -0.02431205,  0.01359108, ..., -0.01283761,\n",
       "           0.02133378,  0.04657464],\n",
       "         [ 0.03312662, -0.04879465, -0.03877483, ..., -0.00944418,\n",
       "          -0.01609387, -0.00767157],\n",
       "         [ 0.01697065, -0.03765471,  0.03697832, ..., -0.01554425,\n",
       "          -0.04049817,  0.02478031],\n",
       "         ...,\n",
       "         [-0.03121829, -0.03601195,  0.0441362 , ..., -0.03802283,\n",
       "           0.01293616, -0.0319415 ],\n",
       "         [-0.03170339,  0.00716047,  0.0404692 , ..., -0.02969178,\n",
       "           0.00065567,  0.03308788],\n",
       "         [-0.01504891, -0.01218427, -0.04572837, ..., -0.02155051,\n",
       "           0.01137178, -0.02167119]],\n",
       " \n",
       "        [[ 0.01794722,  0.04322653, -0.02327638, ..., -0.01289977,\n",
       "           0.00232258,  0.00189101],\n",
       "         [ 0.00534121, -0.02301954, -0.02746383, ..., -0.02050431,\n",
       "           0.00193799,  0.00512582],\n",
       "         [-0.0162696 ,  0.00579733,  0.04155482, ...,  0.04446291,\n",
       "           0.02437827, -0.03568285],\n",
       "         ...,\n",
       "         [-0.0031961 ,  0.02495589, -0.02016304, ...,  0.02189454,\n",
       "           0.04686948,  0.03560548],\n",
       "         [-0.00844016, -0.00919739,  0.00918216, ...,  0.00896388,\n",
       "          -0.01881772, -0.01398136],\n",
       "         [-0.03855329, -0.00482761,  0.04206512, ...,  0.03659237,\n",
       "          -0.03506576, -0.03967259]]], dtype=float32)>,\n",
       " <tf.Variable 'conv1d_1/bias:0' shape=(16,) dtype=float32, numpy=\n",
       " array([0., 0., 0., 0., 0., 0., 0., 0., 0., 0., 0., 0., 0., 0., 0., 0.],\n",
       "       dtype=float32)>,\n",
       " <tf.Variable 'conv_FC1/kernel:0' shape=(496, 64) dtype=float32, numpy=\n",
       " array([[-0.01040781,  0.07343462, -0.00784869, ...,  0.0379086 ,\n",
       "          0.00725937, -0.00958429],\n",
       "        [-0.0029031 , -0.07281165,  0.07454643, ...,  0.06984682,\n",
       "         -0.02312373,  0.03751759],\n",
       "        [ 0.05668633,  0.07602926,  0.04691133, ...,  0.09669872,\n",
       "          0.06970073,  0.02450508],\n",
       "        ...,\n",
       "        [-0.05098017, -0.05155626,  0.03648879, ..., -0.01409795,\n",
       "         -0.06562465, -0.08690535],\n",
       "        [-0.04439808, -0.08514529,  0.05259635, ...,  0.08018208,\n",
       "          0.10520305,  0.09065937],\n",
       "        [ 0.08317797,  0.10979478,  0.04411556, ..., -0.01672036,\n",
       "         -0.03799786, -0.00641564]], dtype=float32)>,\n",
       " <tf.Variable 'conv_FC1/bias:0' shape=(64,) dtype=float32, numpy=\n",
       " array([1., 1., 1., 1., 1., 1., 1., 1., 1., 1., 1., 1., 1., 1., 1., 1., 1.,\n",
       "        1., 1., 1., 1., 1., 1., 1., 1., 1., 1., 1., 1., 1., 1., 1., 1., 1.,\n",
       "        1., 1., 1., 1., 1., 1., 1., 1., 1., 1., 1., 1., 1., 1., 1., 1., 1.,\n",
       "        1., 1., 1., 1., 1., 1., 1., 1., 1., 1., 1., 1., 1.], dtype=float32)>,\n",
       " <tf.Variable 'conv_FC2/kernel:0' shape=(64, 64) dtype=float32, numpy=\n",
       " array([[-0.01242576, -0.06626575,  0.11856964, ...,  0.21732236,\n",
       "         -0.2942455 , -0.0446457 ],\n",
       "        [-0.08838599,  0.0383636 ,  0.22014163, ...,  0.03011134,\n",
       "          0.11118852,  0.09210147],\n",
       "        [ 0.09492995, -0.04067767, -0.3352863 , ..., -0.02405151,\n",
       "         -0.26435858,  0.11175167],\n",
       "        ...,\n",
       "        [-0.22797105,  0.04233266, -0.30078757, ..., -0.01368948,\n",
       "         -0.06104582, -0.00509514],\n",
       "        [-0.2993118 , -0.19397222, -0.24486606, ..., -0.15316443,\n",
       "         -0.12203809, -0.17545234],\n",
       "        [ 0.05573903,  0.10585641, -0.12603658, ..., -0.12459709,\n",
       "          0.13961217, -0.10181272]], dtype=float32)>,\n",
       " <tf.Variable 'conv_FC2/bias:0' shape=(64,) dtype=float32, numpy=\n",
       " array([0.4, 0.4, 0.4, 0.4, 0.4, 0.4, 0.4, 0.4, 0.4, 0.4, 0.4, 0.4, 0.4,\n",
       "        0.4, 0.4, 0.4, 0.4, 0.4, 0.4, 0.4, 0.4, 0.4, 0.4, 0.4, 0.4, 0.4,\n",
       "        0.4, 0.4, 0.4, 0.4, 0.4, 0.4, 0.4, 0.4, 0.4, 0.4, 0.4, 0.4, 0.4,\n",
       "        0.4, 0.4, 0.4, 0.4, 0.4, 0.4, 0.4, 0.4, 0.4, 0.4, 0.4, 0.4, 0.4,\n",
       "        0.4, 0.4, 0.4, 0.4, 0.4, 0.4, 0.4, 0.4, 0.4, 0.4, 0.4, 0.4],\n",
       "       dtype=float32)>,\n",
       " <tf.Variable 'dense_34/kernel:0' shape=(64, 64) dtype=float32, numpy=\n",
       " array([[ 0.6832526 ,  0.65187585, -0.56073093, ...,  1.0704312 ,\n",
       "          2.941521  ,  0.37132266],\n",
       "        [ 0.76119614,  0.82079566, -1.5076089 , ..., -1.0748025 ,\n",
       "          0.6124395 ,  0.01774249],\n",
       "        [-0.7977313 ,  0.06226502, -1.4263479 , ..., -0.59296876,\n",
       "          1.1380352 , -0.7200487 ],\n",
       "        ...,\n",
       "        [ 0.17182423, -0.7403327 , -0.0807009 , ...,  0.80307025,\n",
       "         -0.9597733 , -0.5893525 ],\n",
       "        [ 0.24678251,  1.5046484 , -0.11107019, ..., -0.5736014 ,\n",
       "          1.1072307 , -0.59692407],\n",
       "        [ 1.426716  , -0.6247188 , -0.73031104, ...,  0.3639174 ,\n",
       "          1.0241718 ,  0.5275811 ]], dtype=float32)>,\n",
       " <tf.Variable 'dense_34/bias:0' shape=(64,) dtype=float32, numpy=\n",
       " array([0., 0., 0., 0., 0., 0., 0., 0., 0., 0., 0., 0., 0., 0., 0., 0., 0.,\n",
       "        0., 0., 0., 0., 0., 0., 0., 0., 0., 0., 0., 0., 0., 0., 0., 0., 0.,\n",
       "        0., 0., 0., 0., 0., 0., 0., 0., 0., 0., 0., 0., 0., 0., 0., 0., 0.,\n",
       "        0., 0., 0., 0., 0., 0., 0., 0., 0., 0., 0., 0., 0.], dtype=float32)>]"
      ]
     },
     "execution_count": 81,
     "metadata": {},
     "output_type": "execute_result"
    }
   ],
   "source": [
    "CNN_model.weights"
   ]
  },
  {
   "cell_type": "code",
   "execution_count": 80,
   "metadata": {},
   "outputs": [
    {
     "name": "stdout",
     "output_type": "stream",
     "text": [
      "Model: \"sequential_9\"\n",
      "_________________________________________________________________\n",
      " Layer (type)                Output Shape              Param #   \n",
      "=================================================================\n",
      " conv1d_1 (Conv1D)           (None, 126, 16)           3088      \n",
      "                                                                 \n",
      " max_pooling1d_1 (MaxPooling  (None, 31, 16)           0         \n",
      " 1D)                                                             \n",
      "                                                                 \n",
      " flatten_10 (Flatten)        (None, 496)               0         \n",
      "                                                                 \n",
      " conv_FC1 (Dense)            (None, 64)                31808     \n",
      "                                                                 \n",
      " conv_FC2 (Dense)            (None, 64)                4160      \n",
      "                                                                 \n",
      " dense_34 (Dense)            (None, 64)                4160      \n",
      "                                                                 \n",
      "=================================================================\n",
      "Total params: 43,216\n",
      "Trainable params: 43,216\n",
      "Non-trainable params: 0\n",
      "_________________________________________________________________\n"
     ]
    }
   ],
   "source": [
    "CNN_model.summary()"
   ]
  },
  {
   "cell_type": "code",
   "execution_count": 82,
   "metadata": {},
   "outputs": [],
   "source": [
    "# Load the Fashion-MNIST dataset\n",
    "mnist_data = tf.keras.datasets.mnist\n",
    "(train_images, train_labels), (test_images, test_labels) = mnist_data.load_data()"
   ]
  },
  {
   "cell_type": "code",
   "execution_count": 83,
   "metadata": {},
   "outputs": [
    {
     "data": {
      "text/plain": [
       "(60000, 28, 28)"
      ]
     },
     "execution_count": 83,
     "metadata": {},
     "output_type": "execute_result"
    }
   ],
   "source": [
    "train_images.shape"
   ]
  },
  {
   "cell_type": "code",
   "execution_count": 89,
   "metadata": {},
   "outputs": [
    {
     "data": {
      "text/plain": [
       "(60000, 28, 28)"
      ]
     },
     "execution_count": 89,
     "metadata": {},
     "output_type": "execute_result"
    }
   ],
   "source": [
    "train_images.shape"
   ]
  }
 ],
 "metadata": {
  "kernelspec": {
   "display_name": "kernel_spaceForJu",
   "language": "python",
   "name": "spaceforju"
  },
  "language_info": {
   "codemirror_mode": {
    "name": "ipython",
    "version": 3
   },
   "file_extension": ".py",
   "mimetype": "text/x-python",
   "name": "python",
   "nbconvert_exporter": "python",
   "pygments_lexer": "ipython3",
   "version": "3.9.13"
  },
  "orig_nbformat": 4,
  "vscode": {
   "interpreter": {
    "hash": "263930470851f494f0ed2879c35b57985588df20f9e529b86e97dd5eb9ddc466"
   }
  }
 },
 "nbformat": 4,
 "nbformat_minor": 2
}
