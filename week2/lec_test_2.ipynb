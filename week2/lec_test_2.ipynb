{
 "cells": [
  {
   "cell_type": "code",
   "execution_count": null,
   "metadata": {},
   "outputs": [],
   "source": [
    "from tensorflow.keras.models import Sequential\n",
    "from tensorflow.keras.layers import Dense,Flatten,Conv2D,MaxPooling2D\n",
    "\n",
    "model=Sequential([\n",
    "    Conv2D(16,(3,3),padding='SAME',strides=2, activation='relu',input_shape=(28,28,1)),#기본 stride=1 그리고 기본적으로 제로패딩\n",
    "    MaxPooling2D((3,3)),\n",
    "    Flatten(),\n",
    "    Dense(64, activation='relu'),\n",
    "    Dense(10, activation='softmax')\n",
    "])\n",
    "model.compile(\n",
    "    optimizer='adam',\n",
    "    loss='binary_crossentropy',\n",
    "    metrics=['accuracy','mae']\n",
    "\n",
    ")\n",
    "model.summary()"
   ]
  },
  {
   "cell_type": "code",
   "execution_count": null,
   "metadata": {},
   "outputs": [],
   "source": [
    "from tensorflow.keras.models import Sequential\n",
    "from tensorflow.keras.layers import Dense,Flatten,Conv2D,MaxPooling2D\n",
    "\n",
    "model=Sequential([\n",
    "    Dense(64, activation='elu',input_shape=(32,)),\n",
    "    Dense(100, activation='softmax')\n",
    "])\n",
    "model.compile(\n",
    "    optimizer='rmsprop',\n",
    "    loss='categorical_crossentropy',\n",
    "    metrics=['accuracy','mae']\n",
    "\n",
    ")\n",
    "model.fit(X_train,y_train,epoch=10,batch_size=16)\n",
    "\n",
    "# X_train:(num_samples,num_feature)\n",
    "# y_train:(num_samples,num_classes)\n",
    "\n",
    "\n",
    "\n",
    "model.summary()"
   ]
  },
  {
   "cell_type": "code",
   "execution_count": 1,
   "metadata": {},
   "outputs": [
    {
     "name": "stdout",
     "output_type": "stream",
     "text": [
      "(60000, 28, 28)\n",
      "(60000, 28, 28) (10000, 28, 28)\n"
     ]
    },
    {
     "ename": "NameError",
     "evalue": "name 'Sequential' is not defined",
     "output_type": "error",
     "traceback": [
      "\u001b[1;31m---------------------------------------------------------------------------\u001b[0m",
      "\u001b[1;31mNameError\u001b[0m                                 Traceback (most recent call last)",
      "\u001b[1;32m~\\AppData\\Local\\Temp\\ipykernel_23348\\2503396972.py\u001b[0m in \u001b[0;36m<module>\u001b[1;34m\u001b[0m\n\u001b[0;32m     17\u001b[0m \u001b[0mprint\u001b[0m\u001b[1;33m(\u001b[0m\u001b[0mtrain_images\u001b[0m\u001b[1;33m.\u001b[0m\u001b[0mshape\u001b[0m\u001b[1;33m,\u001b[0m\u001b[0mtest_images\u001b[0m\u001b[1;33m.\u001b[0m\u001b[0mshape\u001b[0m\u001b[1;33m)\u001b[0m\u001b[1;33m\u001b[0m\u001b[1;33m\u001b[0m\u001b[0m\n\u001b[0;32m     18\u001b[0m \u001b[1;33m\u001b[0m\u001b[0m\n\u001b[1;32m---> 19\u001b[1;33m model=Sequential([\n\u001b[0m\u001b[0;32m     20\u001b[0m     \u001b[0mConv2D\u001b[0m\u001b[1;33m(\u001b[0m\u001b[1;36m16\u001b[0m\u001b[1;33m,\u001b[0m\u001b[1;33m(\u001b[0m\u001b[1;36m3\u001b[0m\u001b[1;33m,\u001b[0m\u001b[1;36m3\u001b[0m\u001b[1;33m)\u001b[0m\u001b[1;33m,\u001b[0m\u001b[0mactivation\u001b[0m\u001b[1;33m=\u001b[0m\u001b[1;34m'relu'\u001b[0m\u001b[1;33m,\u001b[0m\u001b[0minput_shape\u001b[0m\u001b[1;33m=\u001b[0m\u001b[1;33m(\u001b[0m\u001b[1;36m28\u001b[0m\u001b[1;33m,\u001b[0m\u001b[1;36m28\u001b[0m\u001b[1;33m,\u001b[0m\u001b[1;36m1\u001b[0m\u001b[1;33m)\u001b[0m\u001b[1;33m)\u001b[0m\u001b[1;33m,\u001b[0m\u001b[1;33m\u001b[0m\u001b[1;33m\u001b[0m\u001b[0m\n\u001b[0;32m     21\u001b[0m     \u001b[0mMaxPooling2D\u001b[0m\u001b[1;33m(\u001b[0m\u001b[1;33m(\u001b[0m\u001b[1;36m3\u001b[0m\u001b[1;33m,\u001b[0m\u001b[1;36m3\u001b[0m\u001b[1;33m)\u001b[0m\u001b[1;33m)\u001b[0m\u001b[1;33m,\u001b[0m\u001b[1;33m\u001b[0m\u001b[1;33m\u001b[0m\u001b[0m\n",
      "\u001b[1;31mNameError\u001b[0m: name 'Sequential' is not defined"
     ]
    }
   ],
   "source": [
    "'''\n",
    "cnn신경망 실습\n",
    "\n",
    "'''\n",
    "import tensorflow as tf\n",
    "from tensorflow.keras.preprocessing import image\n",
    "from matplotlib import pyplot as plt\n",
    "import numpy as np\n",
    "\n",
    "fashion_mnist_data=tf.keras.datasets.fashion_mnist\n",
    "(train_images, train_labels),(test_images,test_labels)= fashion_mnist_data.load_data()\n",
    "\n",
    "print(train_images.shape)\n",
    "\n",
    "train_images=train_images/255.\n",
    "test_images=test_images/255.\n",
    "print(train_images.shape,test_images.shape)\n",
    "\n",
    "model=Sequential([\n",
    "    Conv2D(16,(3,3),activation='relu',input_shape=(28,28,1)),\n",
    "    MaxPooling2D((3,3)),\n",
    "    Flatten(),\n",
    "    Dense(64, activation='relu'),\n",
    "    Dense(10, activation='softmax')\n",
    "])\n",
    "opt=tf.keras.optimizers.Adam(learning_rate=0.005)\n",
    "acc=tf.keras.metrics.SparseCategoricalAccuracy()\n",
    "mae=tf.keras.metrics.MeanAbsoluteError()\n",
    "\n",
    "model.compile(\n",
    "    optimizer=opt,\n",
    "    loss='sparse_categorical_crossentropy',\n",
    "    metrics=[acc,mae]\n",
    ")\n",
    "\n",
    "# i=0\n",
    "# img=train_images[i,:,:]\n",
    "# plt.imshow(img)\n",
    "# plt.show()\n",
    "# print(\"label: (labels(train_labels{0})\".format(i))\n",
    "\n",
    "labels=[\"t-shirts\",'tr','pull','dress','coat','sandal','shirts','sneakers','bag','ank boot']\n",
    "\n",
    "model.fit(train_images[...,np.newaxis],train_labels,epochs=20,batch_size=256,verbose=2)\n",
    "test_loss,test_accuracy,test_mae=model.evaluate(test_images,test_labels)\n",
    "\n"
   ]
  },
  {
   "cell_type": "code",
   "execution_count": 2,
   "metadata": {},
   "outputs": [
    {
     "name": "stdout",
     "output_type": "stream",
     "text": [
      "Epoch 1/2\n",
      "235/235 - 4s - loss: 0.2373 - sparse_categorical_accuracy: 0.9299 - mean_absolute_error: 4.3737 - 4s/epoch - 18ms/step\n",
      "Epoch 2/2\n",
      "235/235 - 4s - loss: 0.0755 - sparse_categorical_accuracy: 0.9773 - mean_absolute_error: 4.3737 - 4s/epoch - 17ms/step\n",
      "313/313 [==============================] - 1s 1ms/step - loss: 0.0609 - sparse_categorical_accuracy: 0.9810 - mean_absolute_error: 4.3630\n"
     ]
    }
   ],
   "source": [
    "'''\n",
    "mnist dataset으로 cnn신경망 만들어보기\n",
    "\n",
    "'''\n",
    "import tensorflow as tf\n",
    "from tensorflow.keras.preprocessing import image\n",
    "from matplotlib import pyplot as plt\n",
    "import numpy as np\n",
    "from tensorflow.keras.layers import Dropout\n",
    "from tensorflow.keras.models import Sequential\n",
    "from tensorflow.keras.layers import Dense,Flatten,Conv2D,MaxPooling2D\n",
    "\n",
    "mnist_data=tf.keras.datasets.mnist\n",
    "(train_images, train_labels),(test_images,test_labels)= mnist_data.load_data()\n",
    "\n",
    "train_images=train_images/255.\n",
    "test_images=test_images/255.\n",
    "\n",
    "\n",
    "model=Sequential([\n",
    "    Conv2D(16,(3,3),activation='relu',input_shape=(28,28,1)),\n",
    "    MaxPooling2D((3,3)),\n",
    "    Flatten(),\n",
    "    Dense(64, activation='relu'),\n",
    "    Dense(10, activation='softmax')\n",
    "])\n",
    "opt=tf.keras.optimizers.Adam(learning_rate=0.005)\n",
    "acc=tf.keras.metrics.SparseCategoricalAccuracy()\n",
    "mae=tf.keras.metrics.MeanAbsoluteError()\n",
    "\n",
    "model.compile(\n",
    "    optimizer=opt,\n",
    "    loss='sparse_categorical_crossentropy',\n",
    "    metrics=[acc,mae]\n",
    ")\n",
    "\n",
    "model.fit(train_images[...,np.newaxis],train_labels,epochs=2,batch_size=256,verbose=2)\n",
    "test_loss,test_accuracy,test_mae=model.evaluate(test_images,test_labels)\n",
    "\n",
    "\n",
    "# model_weights = model.weights[0].numpy()\n",
    "# plt.hist(model_weights.reshape(-1,1))\n",
    "# plt.xlabel('weight')\n",
    "# plt.ylabel('count')\n",
    "# plt.show()"
   ]
  },
  {
   "cell_type": "code",
   "execution_count": 4,
   "metadata": {},
   "outputs": [
    {
     "data": {
      "text/plain": [
       "array([5, 0, 4, ..., 5, 6, 8], dtype=uint8)"
      ]
     },
     "execution_count": 4,
     "metadata": {},
     "output_type": "execute_result"
    }
   ],
   "source": [
    "train_labels"
   ]
  },
  {
   "cell_type": "code",
   "execution_count": null,
   "metadata": {},
   "outputs": [],
   "source": [
    "for inx in range(10):\n",
    "    test_image=test_images[inx]\n",
    "    print(\"number: {0}  test_labels: {1}\".format(inx,test_labels[inx]))\n",
    "\n",
    "    prediction=model.predict(test_image[np.newaxis,...,np.newaxis])\n",
    "    print(\"model prediction: {0}\".format(np.argmax(prediction)),\"\\n\")\n",
    "\n",
    "plt.figure(figsize=(10,10))\n",
    "for index in range(10):\n",
    "    plt.subplot(1,10,index+1),plt.imshow(test_images[index],cmap='gray')\n",
    "plt.show()"
   ]
  },
  {
   "cell_type": "code",
   "execution_count": null,
   "metadata": {},
   "outputs": [],
   "source": [
    "model.weights"
   ]
  }
 ],
 "metadata": {
  "kernelspec": {
   "display_name": "kernel_spaceForJu",
   "language": "python",
   "name": "spaceforju"
  },
  "language_info": {
   "codemirror_mode": {
    "name": "ipython",
    "version": 3
   },
   "file_extension": ".py",
   "mimetype": "text/x-python",
   "name": "python",
   "nbconvert_exporter": "python",
   "pygments_lexer": "ipython3",
   "version": "3.9.13"
  },
  "orig_nbformat": 4,
  "vscode": {
   "interpreter": {
    "hash": "263930470851f494f0ed2879c35b57985588df20f9e529b86e97dd5eb9ddc466"
   }
  }
 },
 "nbformat": 4,
 "nbformat_minor": 2
}
